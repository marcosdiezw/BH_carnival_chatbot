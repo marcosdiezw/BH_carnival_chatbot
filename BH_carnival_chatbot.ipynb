{
  "cells": [
    {
      "cell_type": "markdown",
      "metadata": {
        "id": "view-in-github",
        "colab_type": "text"
      },
      "source": [
        "<a href=\"https://colab.research.google.com/github/marcosdiezw/BH_carnival_chatbot/blob/main/BH_carnival_chatbot.ipynb\" target=\"_parent\"><img src=\"https://colab.research.google.com/assets/colab-badge.svg\" alt=\"Open In Colab\"/></a>"
      ]
    },
    {
      "cell_type": "markdown",
      "source": [
        "***\n",
        "# **<center> <font color= darkblue size=8> CARNAVAL DE BELO HORIZONTE 2018 </font>**\n",
        "***"
      ],
      "metadata": {
        "id": "mRk2aE6UhZ0C"
      }
    },
    {
      "cell_type": "markdown",
      "source": [
        "<left>\n",
        "<img src=\"https://lh3.googleusercontent.com/Q7Gypg7GyRmPn1z8_cQOYIDOC1VyqjBdaMQFP1tukOlRu2Qde7o9NYpif3N4GsCC8dax1h4t9erOi_M6yflmcRS8BiHkIH4YKeNNb6TKwqeAFLsbmcDCL2AKx6zuherYhQ\" align=\"middle\" width=\"400\" height=\"200\">\n",
        "</left>\n",
        "\n",
        "<right>\n",
        "<img src=\"https://prefeitura.pbh.gov.br/sites/default/files/estrutura-de-governo/comunicacao/2021/logo_21prancheta-1.png\" alt=\"image description\" align=\"right\" width=\"400\" height=\"200\">\n",
        "</right>"
      ],
      "metadata": {
        "id": "Foxs6n7Phlbc"
      }
    },
    {
      "cell_type": "markdown",
      "source": [
        "# Introdução\n",
        "\n",
        "No seguinte estudo de caso se descreverão de forma geral os dados colhidos do serviço de chatbot fornecido pela Take Blip, no contexto do Carnaval de Belo Horizonte 2018.\n",
        "***\n",
        "\n",
        "**Objetivo:** Analisar os dados registrados pelo Chatbot e responder/comentar\n",
        "os pontos abaixo:\n",
        "- O que os usuários buscavam no Chatbot? Acessaram o Chatbot com qual\n",
        "objetivo?\n",
        "- Diante das análises realizadas, quais são as tendências de comportamento? O\n",
        "que te chamou a atenção com relação à utilização da plataforma pelos usuários?\n",
        "- Aponte pelo menos 3 insights embasados em dados que podem trazer melhoria\n",
        "e/ou evolução para o Chatbot."
      ],
      "metadata": {
        "id": "M4QWRCB5_Gc4"
      }
    },
    {
      "cell_type": "code",
      "execution_count": null,
      "metadata": {
        "id": "mBFiPt1JRTTW"
      },
      "outputs": [],
      "source": [
        "# Importamos os pacotes a serem utilizados\n",
        "import pandas as pd\n",
        "import seaborn as sns\n",
        "import matplotlib.pyplot as plt\n",
        "import numpy as np\n",
        "import datetime\n",
        "import time"
      ]
    },
    {
      "cell_type": "code",
      "execution_count": null,
      "metadata": {
        "id": "nPRaWfFSSPKt"
      },
      "outputs": [],
      "source": [
        "# Carregamos os arquivos e criamos com eles os dataframes com que vamos trabalhar.\n",
        "\n",
        "df_Messages = pd.read_csv('DadosBrutosMessages.csv',sep=';', encoding='latin-1')\n",
        "df_EventTracks = pd.read_csv('DadosBrutosEventTracks.csv',sep=';', encoding='latin-1')"
      ]
    },
    {
      "cell_type": "markdown",
      "metadata": {
        "id": "ctaV7DEOWjP1"
      },
      "source": [
        "# <font size=5>**Descrição das bases e dos tipos de dados**"
      ]
    },
    {
      "cell_type": "code",
      "execution_count": null,
      "metadata": {
        "colab": {
          "base_uri": "https://localhost:8080/"
        },
        "id": "D_I3IlCvSrv2",
        "outputId": "2c96dc01-e60d-4e12-c4ac-959327540164"
      },
      "outputs": [
        {
          "output_type": "stream",
          "name": "stdout",
          "text": [
            "<class 'pandas.core.frame.DataFrame'>\n",
            "RangeIndex: 33766 entries, 0 to 33765\n",
            "Data columns (total 6 columns):\n",
            " #   Column                  Non-Null Count  Dtype \n",
            "---  ------                  --------------  ----- \n",
            " 0   ï»¿MessageSequentialID  33766 non-null  int64 \n",
            " 1   StorageDate             33766 non-null  object\n",
            " 2   FromIdentity            33766 non-null  object\n",
            " 3   ToIdentity              33766 non-null  object\n",
            " 4   Message                 33766 non-null  object\n",
            " 5   MessageOriginator       33766 non-null  object\n",
            "dtypes: int64(1), object(5)\n",
            "memory usage: 1.5+ MB\n",
            "\n",
            "\n",
            "<class 'pandas.core.frame.DataFrame'>\n",
            "RangeIndex: 52900 entries, 0 to 52899\n",
            "Data columns (total 5 columns):\n",
            " #   Column                     Non-Null Count  Dtype \n",
            "---  ------                     --------------  ----- \n",
            " 0   ï»¿EventTrackSequentialID  52900 non-null  int64 \n",
            " 1   OwnerIdentity              52900 non-null  object\n",
            " 2   StorageDate                52900 non-null  object\n",
            " 3   Category                   52900 non-null  object\n",
            " 4   Action                     52900 non-null  object\n",
            "dtypes: int64(1), object(4)\n",
            "memory usage: 2.0+ MB\n"
          ]
        }
      ],
      "source": [
        "#Descrição dos tipos de dados\n",
        "\n",
        "df_Messages.info()\n",
        "print('\\n')\n",
        "df_EventTracks.info()"
      ]
    },
    {
      "cell_type": "code",
      "execution_count": null,
      "metadata": {
        "id": "EfX-OsR9y-3z"
      },
      "outputs": [],
      "source": [
        "# Ajeitamos o nomes respectivos das primeiras colunas para elas ficarem mais simples e claras.\n",
        "\n",
        "df_Messages.rename(columns={'ï»¿MessageSequentialID':'MessageSequentialID'}, inplace=True)\n",
        "\n",
        "df_EventTracks.rename(columns={'ï»¿EventTrackSequentialID':'EventTrackSequentialID'}, inplace=True)"
      ]
    },
    {
      "cell_type": "code",
      "execution_count": null,
      "metadata": {
        "colab": {
          "base_uri": "https://localhost:8080/",
          "height": 239
        },
        "id": "JuMrqpcEom4h",
        "outputId": "58e0c485-92f1-4d36-8a34-98d35bcda7c6"
      },
      "outputs": [
        {
          "output_type": "execute_result",
          "data": {
            "text/plain": [
              "   MessageSequentialID                    StorageDate  \\\n",
              "0                73719  2018-02-02 13:51:58.78 -02:00   \n",
              "1                73722  2018-02-02 13:52:00.92 -02:00   \n",
              "2                73723  2018-02-02 13:52:03.90 -02:00   \n",
              "\n",
              "                               FromIdentity  \\\n",
              "0  1454345038013757@messenger.gw.msging.net   \n",
              "1                      carnabelo@msging.net   \n",
              "2                      carnabelo@msging.net   \n",
              "\n",
              "                                 ToIdentity  \\\n",
              "0                      carnabelo@msging.net   \n",
              "1  1454345038013757@messenger.gw.msging.net   \n",
              "2  1454345038013757@messenger.gw.msging.net   \n",
              "\n",
              "                                             Message MessageOriginator  \n",
              "0                                            comecar              User  \n",
              "1  E ai Alan Pierre, o carnaval de BH jÃ¡ comeÃ§o...               Bot  \n",
              "2  Se vocÃª nÃ£o sabe onde ir, posso te ajudar co...               Bot  "
            ],
            "text/html": [
              "\n",
              "  <div id=\"df-78e41ab7-c831-40bf-9587-2389cb75a2a5\">\n",
              "    <div class=\"colab-df-container\">\n",
              "      <div>\n",
              "<style scoped>\n",
              "    .dataframe tbody tr th:only-of-type {\n",
              "        vertical-align: middle;\n",
              "    }\n",
              "\n",
              "    .dataframe tbody tr th {\n",
              "        vertical-align: top;\n",
              "    }\n",
              "\n",
              "    .dataframe thead th {\n",
              "        text-align: right;\n",
              "    }\n",
              "</style>\n",
              "<table border=\"1\" class=\"dataframe\">\n",
              "  <thead>\n",
              "    <tr style=\"text-align: right;\">\n",
              "      <th></th>\n",
              "      <th>MessageSequentialID</th>\n",
              "      <th>StorageDate</th>\n",
              "      <th>FromIdentity</th>\n",
              "      <th>ToIdentity</th>\n",
              "      <th>Message</th>\n",
              "      <th>MessageOriginator</th>\n",
              "    </tr>\n",
              "  </thead>\n",
              "  <tbody>\n",
              "    <tr>\n",
              "      <th>0</th>\n",
              "      <td>73719</td>\n",
              "      <td>2018-02-02 13:51:58.78 -02:00</td>\n",
              "      <td>1454345038013757@messenger.gw.msging.net</td>\n",
              "      <td>carnabelo@msging.net</td>\n",
              "      <td>comecar</td>\n",
              "      <td>User</td>\n",
              "    </tr>\n",
              "    <tr>\n",
              "      <th>1</th>\n",
              "      <td>73722</td>\n",
              "      <td>2018-02-02 13:52:00.92 -02:00</td>\n",
              "      <td>carnabelo@msging.net</td>\n",
              "      <td>1454345038013757@messenger.gw.msging.net</td>\n",
              "      <td>E ai Alan Pierre, o carnaval de BH jÃ¡ comeÃ§o...</td>\n",
              "      <td>Bot</td>\n",
              "    </tr>\n",
              "    <tr>\n",
              "      <th>2</th>\n",
              "      <td>73723</td>\n",
              "      <td>2018-02-02 13:52:03.90 -02:00</td>\n",
              "      <td>carnabelo@msging.net</td>\n",
              "      <td>1454345038013757@messenger.gw.msging.net</td>\n",
              "      <td>Se vocÃª nÃ£o sabe onde ir, posso te ajudar co...</td>\n",
              "      <td>Bot</td>\n",
              "    </tr>\n",
              "  </tbody>\n",
              "</table>\n",
              "</div>\n",
              "      <button class=\"colab-df-convert\" onclick=\"convertToInteractive('df-78e41ab7-c831-40bf-9587-2389cb75a2a5')\"\n",
              "              title=\"Convert this dataframe to an interactive table.\"\n",
              "              style=\"display:none;\">\n",
              "        \n",
              "  <svg xmlns=\"http://www.w3.org/2000/svg\" height=\"24px\"viewBox=\"0 0 24 24\"\n",
              "       width=\"24px\">\n",
              "    <path d=\"M0 0h24v24H0V0z\" fill=\"none\"/>\n",
              "    <path d=\"M18.56 5.44l.94 2.06.94-2.06 2.06-.94-2.06-.94-.94-2.06-.94 2.06-2.06.94zm-11 1L8.5 8.5l.94-2.06 2.06-.94-2.06-.94L8.5 2.5l-.94 2.06-2.06.94zm10 10l.94 2.06.94-2.06 2.06-.94-2.06-.94-.94-2.06-.94 2.06-2.06.94z\"/><path d=\"M17.41 7.96l-1.37-1.37c-.4-.4-.92-.59-1.43-.59-.52 0-1.04.2-1.43.59L10.3 9.45l-7.72 7.72c-.78.78-.78 2.05 0 2.83L4 21.41c.39.39.9.59 1.41.59.51 0 1.02-.2 1.41-.59l7.78-7.78 2.81-2.81c.8-.78.8-2.07 0-2.86zM5.41 20L4 18.59l7.72-7.72 1.47 1.35L5.41 20z\"/>\n",
              "  </svg>\n",
              "      </button>\n",
              "      \n",
              "  <style>\n",
              "    .colab-df-container {\n",
              "      display:flex;\n",
              "      flex-wrap:wrap;\n",
              "      gap: 12px;\n",
              "    }\n",
              "\n",
              "    .colab-df-convert {\n",
              "      background-color: #E8F0FE;\n",
              "      border: none;\n",
              "      border-radius: 50%;\n",
              "      cursor: pointer;\n",
              "      display: none;\n",
              "      fill: #1967D2;\n",
              "      height: 32px;\n",
              "      padding: 0 0 0 0;\n",
              "      width: 32px;\n",
              "    }\n",
              "\n",
              "    .colab-df-convert:hover {\n",
              "      background-color: #E2EBFA;\n",
              "      box-shadow: 0px 1px 2px rgba(60, 64, 67, 0.3), 0px 1px 3px 1px rgba(60, 64, 67, 0.15);\n",
              "      fill: #174EA6;\n",
              "    }\n",
              "\n",
              "    [theme=dark] .colab-df-convert {\n",
              "      background-color: #3B4455;\n",
              "      fill: #D2E3FC;\n",
              "    }\n",
              "\n",
              "    [theme=dark] .colab-df-convert:hover {\n",
              "      background-color: #434B5C;\n",
              "      box-shadow: 0px 1px 3px 1px rgba(0, 0, 0, 0.15);\n",
              "      filter: drop-shadow(0px 1px 2px rgba(0, 0, 0, 0.3));\n",
              "      fill: #FFFFFF;\n",
              "    }\n",
              "  </style>\n",
              "\n",
              "      <script>\n",
              "        const buttonEl =\n",
              "          document.querySelector('#df-78e41ab7-c831-40bf-9587-2389cb75a2a5 button.colab-df-convert');\n",
              "        buttonEl.style.display =\n",
              "          google.colab.kernel.accessAllowed ? 'block' : 'none';\n",
              "\n",
              "        async function convertToInteractive(key) {\n",
              "          const element = document.querySelector('#df-78e41ab7-c831-40bf-9587-2389cb75a2a5');\n",
              "          const dataTable =\n",
              "            await google.colab.kernel.invokeFunction('convertToInteractive',\n",
              "                                                     [key], {});\n",
              "          if (!dataTable) return;\n",
              "\n",
              "          const docLinkHtml = 'Like what you see? Visit the ' +\n",
              "            '<a target=\"_blank\" href=https://colab.research.google.com/notebooks/data_table.ipynb>data table notebook</a>'\n",
              "            + ' to learn more about interactive tables.';\n",
              "          element.innerHTML = '';\n",
              "          dataTable['output_type'] = 'display_data';\n",
              "          await google.colab.output.renderOutput(dataTable, element);\n",
              "          const docLink = document.createElement('div');\n",
              "          docLink.innerHTML = docLinkHtml;\n",
              "          element.appendChild(docLink);\n",
              "        }\n",
              "      </script>\n",
              "    </div>\n",
              "  </div>\n",
              "  "
            ]
          },
          "metadata": {},
          "execution_count": 7
        }
      ],
      "source": [
        "df_Messages.head(3)"
      ]
    },
    {
      "cell_type": "code",
      "source": [
        "df_EventTracks.head(4)"
      ],
      "metadata": {
        "colab": {
          "base_uri": "https://localhost:8080/",
          "height": 175
        },
        "id": "mOBz-0MX8sVl",
        "outputId": "49ea72ba-376d-4fd1-d7a8-223cd0e16d6d"
      },
      "execution_count": null,
      "outputs": [
        {
          "output_type": "execute_result",
          "data": {
            "text/plain": [
              "   EventTrackSequentialID         OwnerIdentity  \\\n",
              "0                     100  carnabelo@msging.net   \n",
              "1                     101  carnabelo@msging.net   \n",
              "2                     102  carnabelo@msging.net   \n",
              "3                     103  carnabelo@msging.net   \n",
              "\n",
              "                     StorageDate  Category            Action  \n",
              "0  2018-02-02 13:51:59.72 -02:00      Flow       Boas vindas  \n",
              "1  2018-02-02 13:52:10.89 -02:00      Flow  Objetivo - Beber  \n",
              "2  2018-02-02 13:52:10.98 -02:00  Objetivo             Beber  \n",
              "3  2018-02-02 13:52:13.15 -02:00      Flow             Intro  "
            ],
            "text/html": [
              "\n",
              "  <div id=\"df-aec49629-29bb-4b1e-8af4-ca7895826ea9\">\n",
              "    <div class=\"colab-df-container\">\n",
              "      <div>\n",
              "<style scoped>\n",
              "    .dataframe tbody tr th:only-of-type {\n",
              "        vertical-align: middle;\n",
              "    }\n",
              "\n",
              "    .dataframe tbody tr th {\n",
              "        vertical-align: top;\n",
              "    }\n",
              "\n",
              "    .dataframe thead th {\n",
              "        text-align: right;\n",
              "    }\n",
              "</style>\n",
              "<table border=\"1\" class=\"dataframe\">\n",
              "  <thead>\n",
              "    <tr style=\"text-align: right;\">\n",
              "      <th></th>\n",
              "      <th>EventTrackSequentialID</th>\n",
              "      <th>OwnerIdentity</th>\n",
              "      <th>StorageDate</th>\n",
              "      <th>Category</th>\n",
              "      <th>Action</th>\n",
              "    </tr>\n",
              "  </thead>\n",
              "  <tbody>\n",
              "    <tr>\n",
              "      <th>0</th>\n",
              "      <td>100</td>\n",
              "      <td>carnabelo@msging.net</td>\n",
              "      <td>2018-02-02 13:51:59.72 -02:00</td>\n",
              "      <td>Flow</td>\n",
              "      <td>Boas vindas</td>\n",
              "    </tr>\n",
              "    <tr>\n",
              "      <th>1</th>\n",
              "      <td>101</td>\n",
              "      <td>carnabelo@msging.net</td>\n",
              "      <td>2018-02-02 13:52:10.89 -02:00</td>\n",
              "      <td>Flow</td>\n",
              "      <td>Objetivo - Beber</td>\n",
              "    </tr>\n",
              "    <tr>\n",
              "      <th>2</th>\n",
              "      <td>102</td>\n",
              "      <td>carnabelo@msging.net</td>\n",
              "      <td>2018-02-02 13:52:10.98 -02:00</td>\n",
              "      <td>Objetivo</td>\n",
              "      <td>Beber</td>\n",
              "    </tr>\n",
              "    <tr>\n",
              "      <th>3</th>\n",
              "      <td>103</td>\n",
              "      <td>carnabelo@msging.net</td>\n",
              "      <td>2018-02-02 13:52:13.15 -02:00</td>\n",
              "      <td>Flow</td>\n",
              "      <td>Intro</td>\n",
              "    </tr>\n",
              "  </tbody>\n",
              "</table>\n",
              "</div>\n",
              "      <button class=\"colab-df-convert\" onclick=\"convertToInteractive('df-aec49629-29bb-4b1e-8af4-ca7895826ea9')\"\n",
              "              title=\"Convert this dataframe to an interactive table.\"\n",
              "              style=\"display:none;\">\n",
              "        \n",
              "  <svg xmlns=\"http://www.w3.org/2000/svg\" height=\"24px\"viewBox=\"0 0 24 24\"\n",
              "       width=\"24px\">\n",
              "    <path d=\"M0 0h24v24H0V0z\" fill=\"none\"/>\n",
              "    <path d=\"M18.56 5.44l.94 2.06.94-2.06 2.06-.94-2.06-.94-.94-2.06-.94 2.06-2.06.94zm-11 1L8.5 8.5l.94-2.06 2.06-.94-2.06-.94L8.5 2.5l-.94 2.06-2.06.94zm10 10l.94 2.06.94-2.06 2.06-.94-2.06-.94-.94-2.06-.94 2.06-2.06.94z\"/><path d=\"M17.41 7.96l-1.37-1.37c-.4-.4-.92-.59-1.43-.59-.52 0-1.04.2-1.43.59L10.3 9.45l-7.72 7.72c-.78.78-.78 2.05 0 2.83L4 21.41c.39.39.9.59 1.41.59.51 0 1.02-.2 1.41-.59l7.78-7.78 2.81-2.81c.8-.78.8-2.07 0-2.86zM5.41 20L4 18.59l7.72-7.72 1.47 1.35L5.41 20z\"/>\n",
              "  </svg>\n",
              "      </button>\n",
              "      \n",
              "  <style>\n",
              "    .colab-df-container {\n",
              "      display:flex;\n",
              "      flex-wrap:wrap;\n",
              "      gap: 12px;\n",
              "    }\n",
              "\n",
              "    .colab-df-convert {\n",
              "      background-color: #E8F0FE;\n",
              "      border: none;\n",
              "      border-radius: 50%;\n",
              "      cursor: pointer;\n",
              "      display: none;\n",
              "      fill: #1967D2;\n",
              "      height: 32px;\n",
              "      padding: 0 0 0 0;\n",
              "      width: 32px;\n",
              "    }\n",
              "\n",
              "    .colab-df-convert:hover {\n",
              "      background-color: #E2EBFA;\n",
              "      box-shadow: 0px 1px 2px rgba(60, 64, 67, 0.3), 0px 1px 3px 1px rgba(60, 64, 67, 0.15);\n",
              "      fill: #174EA6;\n",
              "    }\n",
              "\n",
              "    [theme=dark] .colab-df-convert {\n",
              "      background-color: #3B4455;\n",
              "      fill: #D2E3FC;\n",
              "    }\n",
              "\n",
              "    [theme=dark] .colab-df-convert:hover {\n",
              "      background-color: #434B5C;\n",
              "      box-shadow: 0px 1px 3px 1px rgba(0, 0, 0, 0.15);\n",
              "      filter: drop-shadow(0px 1px 2px rgba(0, 0, 0, 0.3));\n",
              "      fill: #FFFFFF;\n",
              "    }\n",
              "  </style>\n",
              "\n",
              "      <script>\n",
              "        const buttonEl =\n",
              "          document.querySelector('#df-aec49629-29bb-4b1e-8af4-ca7895826ea9 button.colab-df-convert');\n",
              "        buttonEl.style.display =\n",
              "          google.colab.kernel.accessAllowed ? 'block' : 'none';\n",
              "\n",
              "        async function convertToInteractive(key) {\n",
              "          const element = document.querySelector('#df-aec49629-29bb-4b1e-8af4-ca7895826ea9');\n",
              "          const dataTable =\n",
              "            await google.colab.kernel.invokeFunction('convertToInteractive',\n",
              "                                                     [key], {});\n",
              "          if (!dataTable) return;\n",
              "\n",
              "          const docLinkHtml = 'Like what you see? Visit the ' +\n",
              "            '<a target=\"_blank\" href=https://colab.research.google.com/notebooks/data_table.ipynb>data table notebook</a>'\n",
              "            + ' to learn more about interactive tables.';\n",
              "          element.innerHTML = '';\n",
              "          dataTable['output_type'] = 'display_data';\n",
              "          await google.colab.output.renderOutput(dataTable, element);\n",
              "          const docLink = document.createElement('div');\n",
              "          docLink.innerHTML = docLinkHtml;\n",
              "          element.appendChild(docLink);\n",
              "        }\n",
              "      </script>\n",
              "    </div>\n",
              "  </div>\n",
              "  "
            ]
          },
          "metadata": {},
          "execution_count": 8
        }
      ]
    },
    {
      "cell_type": "markdown",
      "source": [
        "# Perguntas estratégicas:"
      ],
      "metadata": {
        "id": "ZEiv7KyUHHJ5"
      }
    },
    {
      "cell_type": "markdown",
      "source": [
        "## <font color=darkblue size=4> **1) O que os usuários buscavam no Chatbot? Acessaram o Chatbot com qual objetivo?** </font>"
      ],
      "metadata": {
        "id": "iGLXsQ0prlNL"
      }
    },
    {
      "cell_type": "code",
      "source": [
        "# Reunimos em um DataFrame as ações do chatbot que indicavam objetivos concretos:\n",
        "\n",
        "Objectives = df_EventTracks[(df_EventTracks.Category=='Objetivo')|(df_EventTracks.Action.str.contains('Objetivo')==True)][['Category','Action']].value_counts().to_frame().reset_index()\n",
        "Objectives.rename(columns = {0:'Count'}, inplace=True)\n",
        "most_frequent_objective = Objectives.Action[Objectives.Count.idxmax()]\n",
        "Objectives"
      ],
      "metadata": {
        "colab": {
          "base_uri": "https://localhost:8080/",
          "height": 300
        },
        "id": "RsECKvOqLVcV",
        "outputId": "f02c0d5a-bc1a-4fae-9c8f-ba78747d43e3"
      },
      "execution_count": null,
      "outputs": [
        {
          "output_type": "execute_result",
          "data": {
            "text/plain": [
              "   Category             Action  Count\n",
              "0      Flow  Objetivo - Dancar    335\n",
              "1  Objetivo             Dancar    335\n",
              "2      Flow    Objetivo - Tudo    236\n",
              "3  Objetivo               Tudo    236\n",
              "4      Flow  Objetivo - Beijar    112\n",
              "5  Objetivo             Beijar    112\n",
              "6      Flow   Objetivo - Beber    102\n",
              "7  Objetivo              Beber    102"
            ],
            "text/html": [
              "\n",
              "  <div id=\"df-bf036a27-0127-4591-8aa9-0875b7e08f75\">\n",
              "    <div class=\"colab-df-container\">\n",
              "      <div>\n",
              "<style scoped>\n",
              "    .dataframe tbody tr th:only-of-type {\n",
              "        vertical-align: middle;\n",
              "    }\n",
              "\n",
              "    .dataframe tbody tr th {\n",
              "        vertical-align: top;\n",
              "    }\n",
              "\n",
              "    .dataframe thead th {\n",
              "        text-align: right;\n",
              "    }\n",
              "</style>\n",
              "<table border=\"1\" class=\"dataframe\">\n",
              "  <thead>\n",
              "    <tr style=\"text-align: right;\">\n",
              "      <th></th>\n",
              "      <th>Category</th>\n",
              "      <th>Action</th>\n",
              "      <th>Count</th>\n",
              "    </tr>\n",
              "  </thead>\n",
              "  <tbody>\n",
              "    <tr>\n",
              "      <th>0</th>\n",
              "      <td>Flow</td>\n",
              "      <td>Objetivo - Dancar</td>\n",
              "      <td>335</td>\n",
              "    </tr>\n",
              "    <tr>\n",
              "      <th>1</th>\n",
              "      <td>Objetivo</td>\n",
              "      <td>Dancar</td>\n",
              "      <td>335</td>\n",
              "    </tr>\n",
              "    <tr>\n",
              "      <th>2</th>\n",
              "      <td>Flow</td>\n",
              "      <td>Objetivo - Tudo</td>\n",
              "      <td>236</td>\n",
              "    </tr>\n",
              "    <tr>\n",
              "      <th>3</th>\n",
              "      <td>Objetivo</td>\n",
              "      <td>Tudo</td>\n",
              "      <td>236</td>\n",
              "    </tr>\n",
              "    <tr>\n",
              "      <th>4</th>\n",
              "      <td>Flow</td>\n",
              "      <td>Objetivo - Beijar</td>\n",
              "      <td>112</td>\n",
              "    </tr>\n",
              "    <tr>\n",
              "      <th>5</th>\n",
              "      <td>Objetivo</td>\n",
              "      <td>Beijar</td>\n",
              "      <td>112</td>\n",
              "    </tr>\n",
              "    <tr>\n",
              "      <th>6</th>\n",
              "      <td>Flow</td>\n",
              "      <td>Objetivo - Beber</td>\n",
              "      <td>102</td>\n",
              "    </tr>\n",
              "    <tr>\n",
              "      <th>7</th>\n",
              "      <td>Objetivo</td>\n",
              "      <td>Beber</td>\n",
              "      <td>102</td>\n",
              "    </tr>\n",
              "  </tbody>\n",
              "</table>\n",
              "</div>\n",
              "      <button class=\"colab-df-convert\" onclick=\"convertToInteractive('df-bf036a27-0127-4591-8aa9-0875b7e08f75')\"\n",
              "              title=\"Convert this dataframe to an interactive table.\"\n",
              "              style=\"display:none;\">\n",
              "        \n",
              "  <svg xmlns=\"http://www.w3.org/2000/svg\" height=\"24px\"viewBox=\"0 0 24 24\"\n",
              "       width=\"24px\">\n",
              "    <path d=\"M0 0h24v24H0V0z\" fill=\"none\"/>\n",
              "    <path d=\"M18.56 5.44l.94 2.06.94-2.06 2.06-.94-2.06-.94-.94-2.06-.94 2.06-2.06.94zm-11 1L8.5 8.5l.94-2.06 2.06-.94-2.06-.94L8.5 2.5l-.94 2.06-2.06.94zm10 10l.94 2.06.94-2.06 2.06-.94-2.06-.94-.94-2.06-.94 2.06-2.06.94z\"/><path d=\"M17.41 7.96l-1.37-1.37c-.4-.4-.92-.59-1.43-.59-.52 0-1.04.2-1.43.59L10.3 9.45l-7.72 7.72c-.78.78-.78 2.05 0 2.83L4 21.41c.39.39.9.59 1.41.59.51 0 1.02-.2 1.41-.59l7.78-7.78 2.81-2.81c.8-.78.8-2.07 0-2.86zM5.41 20L4 18.59l7.72-7.72 1.47 1.35L5.41 20z\"/>\n",
              "  </svg>\n",
              "      </button>\n",
              "      \n",
              "  <style>\n",
              "    .colab-df-container {\n",
              "      display:flex;\n",
              "      flex-wrap:wrap;\n",
              "      gap: 12px;\n",
              "    }\n",
              "\n",
              "    .colab-df-convert {\n",
              "      background-color: #E8F0FE;\n",
              "      border: none;\n",
              "      border-radius: 50%;\n",
              "      cursor: pointer;\n",
              "      display: none;\n",
              "      fill: #1967D2;\n",
              "      height: 32px;\n",
              "      padding: 0 0 0 0;\n",
              "      width: 32px;\n",
              "    }\n",
              "\n",
              "    .colab-df-convert:hover {\n",
              "      background-color: #E2EBFA;\n",
              "      box-shadow: 0px 1px 2px rgba(60, 64, 67, 0.3), 0px 1px 3px 1px rgba(60, 64, 67, 0.15);\n",
              "      fill: #174EA6;\n",
              "    }\n",
              "\n",
              "    [theme=dark] .colab-df-convert {\n",
              "      background-color: #3B4455;\n",
              "      fill: #D2E3FC;\n",
              "    }\n",
              "\n",
              "    [theme=dark] .colab-df-convert:hover {\n",
              "      background-color: #434B5C;\n",
              "      box-shadow: 0px 1px 3px 1px rgba(0, 0, 0, 0.15);\n",
              "      filter: drop-shadow(0px 1px 2px rgba(0, 0, 0, 0.3));\n",
              "      fill: #FFFFFF;\n",
              "    }\n",
              "  </style>\n",
              "\n",
              "      <script>\n",
              "        const buttonEl =\n",
              "          document.querySelector('#df-bf036a27-0127-4591-8aa9-0875b7e08f75 button.colab-df-convert');\n",
              "        buttonEl.style.display =\n",
              "          google.colab.kernel.accessAllowed ? 'block' : 'none';\n",
              "\n",
              "        async function convertToInteractive(key) {\n",
              "          const element = document.querySelector('#df-bf036a27-0127-4591-8aa9-0875b7e08f75');\n",
              "          const dataTable =\n",
              "            await google.colab.kernel.invokeFunction('convertToInteractive',\n",
              "                                                     [key], {});\n",
              "          if (!dataTable) return;\n",
              "\n",
              "          const docLinkHtml = 'Like what you see? Visit the ' +\n",
              "            '<a target=\"_blank\" href=https://colab.research.google.com/notebooks/data_table.ipynb>data table notebook</a>'\n",
              "            + ' to learn more about interactive tables.';\n",
              "          element.innerHTML = '';\n",
              "          dataTable['output_type'] = 'display_data';\n",
              "          await google.colab.output.renderOutput(dataTable, element);\n",
              "          const docLink = document.createElement('div');\n",
              "          docLink.innerHTML = docLinkHtml;\n",
              "          element.appendChild(docLink);\n",
              "        }\n",
              "      </script>\n",
              "    </div>\n",
              "  </div>\n",
              "  "
            ]
          },
          "metadata": {},
          "execution_count": 9
        }
      ]
    },
    {
      "cell_type": "code",
      "source": [
        "'''Note-se que os valores ficaram duplicados em linhas diferentes pois\n",
        "os eventos foram registrados em várias categorias.\n",
        "Para a nossa análise consideraremos só uma linha para cada objetivo respectivo.\n",
        "'''\n",
        "print('O objetivo com o qual ingressaram mais no chatbot foi:', most_frequent_objective)"
      ],
      "metadata": {
        "colab": {
          "base_uri": "https://localhost:8080/"
        },
        "id": "8SAPXMJLLVRW",
        "outputId": "3949b644-60d3-41f5-af17-e93c59a664e1"
      },
      "execution_count": null,
      "outputs": [
        {
          "output_type": "stream",
          "name": "stdout",
          "text": [
            "O objetivo com o qual ingressaram mais no chatbot foi: Objetivo - Dancar\n"
          ]
        }
      ]
    },
    {
      "cell_type": "markdown",
      "metadata": {
        "id": "2V3em1iDzxZH"
      },
      "source": [
        "## <font color=darkblue size=4> **2.1) Quantas mensagens foram enviadas**"
      ]
    },
    {
      "cell_type": "code",
      "execution_count": null,
      "metadata": {
        "colab": {
          "base_uri": "https://localhost:8080/"
        },
        "id": "ri-UUmMKzvm5",
        "outputId": "8cbd0b3c-fa54-47c2-c0b9-76fbd20d60d1"
      },
      "outputs": [
        {
          "output_type": "stream",
          "name": "stdout",
          "text": [
            "Foram enviadas no total 33766 mensagens.\n"
          ]
        }
      ],
      "source": [
        "q_mensagens = df_Messages.Message.count()\n",
        "print('Foram enviadas no total',q_mensagens,'mensagens.')"
      ]
    },
    {
      "cell_type": "code",
      "execution_count": null,
      "metadata": {
        "colab": {
          "base_uri": "https://localhost:8080/"
        },
        "id": "f152QJc50uag",
        "outputId": "0a581afa-dae0-49eb-eeab-8071a077e9fd"
      },
      "outputs": [
        {
          "output_type": "stream",
          "name": "stdout",
          "text": [
            "Os usuários enviaram 11022 mensagens.\n",
            "O bot enviou 22744 mensagens.\n"
          ]
        }
      ],
      "source": [
        "# A variável bot_messages recolhe as mensagens enviadas pelos usuários:\n",
        "users_messages = df_Messages[df_Messages.MessageOriginator=='User']\n",
        "\n",
        "# A variável bot_messages recolhe as mensagens enviadas pelo bot:\n",
        "bot_messages = df_Messages[df_Messages.MessageOriginator=='Bot']\n",
        "\n",
        "print('Os usuários enviaram',users_messages.Message.count(), 'mensagens.')\n",
        "print('O bot enviou',bot_messages.Message.count(),'mensagens.')"
      ]
    },
    {
      "cell_type": "code",
      "execution_count": null,
      "metadata": {
        "colab": {
          "base_uri": "https://localhost:8080/"
        },
        "id": "YEdERKPl2OjJ",
        "outputId": "d0b674b5-b087-4502-be05-7ac2268d8bc9"
      },
      "outputs": [
        {
          "output_type": "execute_result",
          "data": {
            "text/plain": [
              "408"
            ]
          },
          "metadata": {},
          "execution_count": 13
        }
      ],
      "source": [
        "blocos = df_Messages[df_Messages['Message'].str.contains('bloco', na=False)]\n",
        "blocos.Message[blocos.FromIdentity!='carnabelo@msging.net'].count()"
      ]
    },
    {
      "cell_type": "markdown",
      "source": [
        "## <font color=darkblue size=4>  **2.2) Qual o tópico mais frequente das mensagens?** </font>"
      ],
      "metadata": {
        "id": "ycR97b2oqiaC"
      }
    },
    {
      "cell_type": "code",
      "execution_count": null,
      "metadata": {
        "id": "wKK1go5L2OKT"
      },
      "outputs": [],
      "source": [
        "# Levando em conta as informações fornecidas pela empresa sobre a estrutura do chat\n",
        "# avaliamos inicialmente as mensagens baseados em um conjunto de palavras chave.\n",
        "\n",
        "keywords = [\n",
        "    'beij', 'beb', 'danÃ§', 'danca','bloco','Bloco','bloquinho','arrastao', 'Arrast', 'comeÃ§',\n",
        "    'tudo','cidade','opÃ§Ãµes','regiÃ£o','RegiÃ£o', 'localizaÃ§Ã£o','LocalizaÃ§Ã£o', 'policia',\n",
        "    'saude','saúde','emerg','urgen']\n",
        "\n",
        "frequent_bot_keywords = {}\n",
        "bot_keywords = {}\n",
        "for i in keywords:\n",
        "  bot_keywords[i]= bot_messages[bot_messages['Message'].str.contains(i, na=False)].Message.count()\n",
        "ordered_bot_keywords = sorted(bot_keywords, key=bot_keywords.get, reverse=True)\n",
        "for word in ordered_bot_keywords:\n",
        "  frequent_bot_keywords[word]=bot_keywords[word]\n",
        "\n",
        "frequent_users_keywords = {}\n",
        "users_keywords = {}\n",
        "for i in keywords:\n",
        "  users_keywords[i]=users_messages[users_messages['Message'].str.contains(i, na=False)].Message.count()\n",
        "ordered_users_keywords = sorted(users_keywords, key=users_keywords.get, reverse=True)\n",
        "for word in ordered_bot_keywords:\n",
        "  frequent_users_keywords[word]=bot_keywords[word]\n",
        "\n"
      ]
    },
    {
      "cell_type": "code",
      "execution_count": null,
      "metadata": {
        "colab": {
          "base_uri": "https://localhost:8080/"
        },
        "id": "9AGKYmIs0uO3",
        "outputId": "51fb7a72-f3f4-48bd-d583-5b468a1b9cd7"
      },
      "outputs": [
        {
          "output_type": "stream",
          "name": "stdout",
          "text": [
            "Palavras-chave mais frequentes nas mensagens do bot:\n",
            " {'bloco': 6420, 'cidade': 1389, 'bloquinho': 1092, 'opÃ§Ãµes': 1052, 'comeÃ§': 825, 'Bloco': 469, 'danÃ§': 399, 'Arrast': 90, 'beb': 27, 'beij': 23, 'tudo': 2, 'danca': 0, 'arrastao': 0, 'regiÃ£o': 0, 'RegiÃ£o': 0, 'localizaÃ§Ã£o': 0, 'LocalizaÃ§Ã£o': 0, 'policia': 0, 'saude': 0, 'saúde': 0, 'emerg': 0, 'urgen': 0} \n",
            "\n",
            "Palavras-chave mais frequentes nas mensagens dos usuários:\n",
            " {'bloco': 6420, 'cidade': 1389, 'bloquinho': 1092, 'opÃ§Ãµes': 1052, 'comeÃ§': 825, 'Bloco': 469, 'danÃ§': 399, 'Arrast': 90, 'beb': 27, 'beij': 23, 'tudo': 2, 'danca': 0, 'arrastao': 0, 'regiÃ£o': 0, 'RegiÃ£o': 0, 'localizaÃ§Ã£o': 0, 'LocalizaÃ§Ã£o': 0, 'policia': 0, 'saude': 0, 'saúde': 0, 'emerg': 0, 'urgen': 0}\n"
          ]
        }
      ],
      "source": [
        "print('Palavras-chave mais frequentes nas mensagens do bot:\\n',frequent_bot_keywords,'\\n')\n",
        "print('Palavras-chave mais frequentes nas mensagens dos usuários:\\n',frequent_users_keywords)"
      ]
    },
    {
      "cell_type": "code",
      "execution_count": null,
      "metadata": {
        "colab": {
          "base_uri": "https://localhost:8080/"
        },
        "id": "tE_WK0aeaIib",
        "outputId": "436b9c72-b1bc-49ed-c09a-841d3f4662a1"
      },
      "outputs": [
        {
          "output_type": "stream",
          "name": "stdout",
          "text": [
            "A PALAVRA CHAVE MAIS FREQUENTE DOS USUÁRIOS E DO BOT FOI: bloco\n",
            "HOUVE 6828 MENSAGENS COMO A PALAVRA \"bloco\"\n"
          ]
        }
      ],
      "source": [
        "# PALAVRA CHAVE MAIS FREQUENTE:\n",
        "\n",
        "users_frequent_word = max(users_keywords, key= users_keywords.get)\n",
        "bot_frequent_word = max(bot_keywords, key= bot_keywords.get)\n",
        "if users_frequent_word == bot_frequent_word:\n",
        "  popular_word = users_frequent_word\n",
        "  print('A PALAVRA CHAVE MAIS FREQUENTE DOS USUÁRIOS E DO BOT FOI:', popular_word)\n",
        "else:\n",
        "  if users_frequent_word > bot_frequent_word:\n",
        "    popular_word = users_frequent_word\n",
        "  else:\n",
        "    popular_word = bot_frequent_word\n",
        "  print('A palavra chave mais frequente entre os usuários foi: ', users_frequent_word)\n",
        "  print('A palavra chave mais frequente do bot foi: ', bot_frequent_word)\n",
        "\n",
        "number_word = df_Messages[df_Messages.Message.str.contains(popular_word, na=False)].Message.count()\n",
        "print('HOUVE {} MENSAGENS COMO A PALAVRA \"{}\"'.format(number_word, popular_word))\n"
      ]
    },
    {
      "cell_type": "markdown",
      "metadata": {
        "id": "fNsDLgnN5B86"
      },
      "source": [
        "## <font color=darkblue size=4>  **3) Quais os blocos que tiveram maior relevância?** </font>"
      ]
    },
    {
      "cell_type": "markdown",
      "metadata": {
        "id": "xcr-UNr4n09f"
      },
      "source": [
        "Tendo identificadas duas mensagens padrão que sinalizaram os nomes dos blocos, as utilizaremos para fazer uma contagem das ocorrências dos mais mencionados.\n",
        "\n",
        "* O chatbot tem a seguinte mensagem padrão para avisar o usuário quando um bloco está prestes de começar:\n",
        "\n",
        "> ***a) O bloco ..., começa em ... minutos!!!***"
      ]
    },
    {
      "cell_type": "code",
      "execution_count": null,
      "metadata": {
        "id": "YeeKrSiqQ5V-",
        "colab": {
          "base_uri": "https://localhost:8080/"
        },
        "outputId": "622e4097-4624-4f1f-db7f-99a0574ac749"
      },
      "outputs": [
        {
          "output_type": "execute_result",
          "data": {
            "text/plain": [
              "421     O bloco o Abre-te SÃ©samo, comeÃ§a em 58 minut...\n",
              "434     O bloco o Abre-te SÃ©samo, comeÃ§a em 57 minut...\n",
              "2306    O bloco o A culpa Ã© dele, comeÃ§a em 50 minut...\n",
              "2315    O bloco o BlocÃ£o Pet, comeÃ§a em 48 minutos!!...\n",
              "2705    O bloco o Pega na Mangueira, comeÃ§a em 47 min...\n",
              "4144      O bloco o Alalaor, comeÃ§a em 82 minutos!!!\\n\\n\n",
              "4443    O bloco o Bloco Boi Rosado, comeÃ§a em 58 minu...\n",
              "Name: Message, dtype: object"
            ]
          },
          "metadata": {},
          "execution_count": 17
        }
      ],
      "source": [
        "# Para identificar os nomes dos blocos que mais apareceram nos chats,\n",
        "# procuramos em mensagens do tipo a):\n",
        "df_Messages[df_Messages['Message'].str.contains('comeÃ§a em', na=False)].Message[:7]"
      ]
    },
    {
      "cell_type": "code",
      "execution_count": null,
      "metadata": {
        "colab": {
          "base_uri": "https://localhost:8080/"
        },
        "id": "FaIuN3tBf5f5",
        "outputId": "8b7f59c6-0665-48f9-943f-240046feb25f"
      },
      "outputs": [
        {
          "output_type": "stream",
          "name": "stdout",
          "text": [
            "NOMES DOS 10 BLOCOS MAIS POPULARES NAS MENSAGENS:\n",
            "\n"
          ]
        },
        {
          "output_type": "execute_result",
          "data": {
            "text/plain": [
              "{'Funk You': 152,\n",
              " 'Baianas Ozadas': 78,\n",
              " 'ArrastÃ£o EletrÃ´nico': 77,\n",
              " 'Bloco Juventude Bronzeada': 67,\n",
              " 'Chama o SÃ\\xadndico': 65,\n",
              " 'Tchanzinho Zona Norte': 60,\n",
              " 'Quando come se lambuza': 59,\n",
              " 'Baque de Mina': 57,\n",
              " 'Transa! - AtrÃ¡s do trio elÃ©trico': 54,\n",
              " 'Haja Amor': 50}"
            ]
          },
          "metadata": {},
          "execution_count": 18
        }
      ],
      "source": [
        "# Para armazenar os nomes dos blocos, salvamos só a parte das mensagens onde eles aparecem:\n",
        "\n",
        "blocos = df_Messages[df_Messages['Message'].str.contains('comeÃ§a em', na=False)].Message\n",
        "blocos_names = []\n",
        "for i in blocos:\n",
        "  a = i.find(\"O bloco o \") + len(\"O bloco o \")\n",
        "  b = i.find(\", comeÃ§a em\")\n",
        "  bloco = i[a:b]\n",
        "  blocos_names.append(bloco)\n",
        "blocos_names = set(blocos_names)\n",
        "\n",
        "frequent_blocos = {}\n",
        "popular_blocos = {}\n",
        "for i in blocos_names:\n",
        "  frequent_blocos[i]=df_Messages[df_Messages['Message'].str.contains(i, na=False)].Message.count()\n",
        "ordered_blocos = sorted(frequent_blocos, key=frequent_blocos.get, reverse=True)[:10]\n",
        "for bloco in ordered_blocos:\n",
        "  popular_blocos[bloco]= frequent_blocos[bloco] # Salvamos aqui os nomes dos 10 blocos\n",
        "                                                # mais populares\n",
        "\n",
        "print('NOMES DOS 10 BLOCOS MAIS POPULARES NAS MENSAGENS:\\n')\n",
        "popular_blocos"
      ]
    },
    {
      "cell_type": "markdown",
      "source": [
        "* O chatbot ofereceu também informações dos blocos em mensagens do seguinte tipo:\n",
        "\n",
        "> **b) Bloco - *nome do bloco***"
      ],
      "metadata": {
        "id": "m3RNahX85Ftd"
      }
    },
    {
      "cell_type": "code",
      "source": [
        "opa = df_EventTracks[df_EventTracks['Action'].str.contains('Cabify')]\n",
        "opa.count()"
      ],
      "metadata": {
        "colab": {
          "base_uri": "https://localhost:8080/"
        },
        "id": "xTkwIeWnJIRC",
        "outputId": "da379610-e005-4d43-976d-cbbf97473600"
      },
      "execution_count": null,
      "outputs": [
        {
          "output_type": "execute_result",
          "data": {
            "text/plain": [
              "EventTrackSequentialID    102\n",
              "OwnerIdentity             102\n",
              "StorageDate               102\n",
              "Category                  102\n",
              "Action                    102\n",
              "dtype: int64"
            ]
          },
          "metadata": {},
          "execution_count": 19
        }
      ]
    },
    {
      "cell_type": "code",
      "execution_count": null,
      "metadata": {
        "colab": {
          "base_uri": "https://localhost:8080/"
        },
        "id": "BUrBi521HTXQ",
        "outputId": "83f55ee6-ed38-4549-9c98-ae5eff6e45fd"
      },
      "outputs": [
        {
          "output_type": "execute_result",
          "data": {
            "text/plain": [
              "Bloco - Funk You                              134\n",
              "Bloco - Baianas Ozadas                         71\n",
              "Bloco - EntÃ£o, Brilha!                        69\n",
              "Bloco - Chama o SÃ­ndico                       64\n",
              "Bloco - Bloco Juventude Bronzeada              60\n",
              "Bloco - Transa! - AtrÃ¡s do trio elÃ©trico     57\n",
              "Bloco - Quando come se lambuza                 57\n",
              "Bloco - Tchanzinho Zona Norte                  53\n",
              "Name: Action, dtype: int64"
            ]
          },
          "metadata": {},
          "execution_count": 20
        }
      ],
      "source": [
        "blocos1 = df_EventTracks[((df_EventTracks.Category=='Eu vou')|(df_EventTracks.Category=='Como chegar')) & (df_EventTracks['Action'].str.contains('Bloco - '))].Action\n",
        "blocos1.value_counts()[:8]"
      ]
    },
    {
      "cell_type": "code",
      "source": [
        "df_EventTracks[df_EventTracks['Action'].str.contains('Vou te ajudar', na=False)]"
      ],
      "metadata": {
        "colab": {
          "base_uri": "https://localhost:8080/",
          "height": 49
        },
        "id": "NXq7wll0qH8u",
        "outputId": "64de90f9-d45b-4e9f-8a4f-c4a12da5f1cb"
      },
      "execution_count": null,
      "outputs": [
        {
          "output_type": "execute_result",
          "data": {
            "text/plain": [
              "Empty DataFrame\n",
              "Columns: [EventTrackSequentialID, OwnerIdentity, StorageDate, Category, Action]\n",
              "Index: []"
            ],
            "text/html": [
              "\n",
              "  <div id=\"df-2bd303d9-f2ac-4b2e-926a-6320e93af7d0\">\n",
              "    <div class=\"colab-df-container\">\n",
              "      <div>\n",
              "<style scoped>\n",
              "    .dataframe tbody tr th:only-of-type {\n",
              "        vertical-align: middle;\n",
              "    }\n",
              "\n",
              "    .dataframe tbody tr th {\n",
              "        vertical-align: top;\n",
              "    }\n",
              "\n",
              "    .dataframe thead th {\n",
              "        text-align: right;\n",
              "    }\n",
              "</style>\n",
              "<table border=\"1\" class=\"dataframe\">\n",
              "  <thead>\n",
              "    <tr style=\"text-align: right;\">\n",
              "      <th></th>\n",
              "      <th>EventTrackSequentialID</th>\n",
              "      <th>OwnerIdentity</th>\n",
              "      <th>StorageDate</th>\n",
              "      <th>Category</th>\n",
              "      <th>Action</th>\n",
              "    </tr>\n",
              "  </thead>\n",
              "  <tbody>\n",
              "  </tbody>\n",
              "</table>\n",
              "</div>\n",
              "      <button class=\"colab-df-convert\" onclick=\"convertToInteractive('df-2bd303d9-f2ac-4b2e-926a-6320e93af7d0')\"\n",
              "              title=\"Convert this dataframe to an interactive table.\"\n",
              "              style=\"display:none;\">\n",
              "        \n",
              "  <svg xmlns=\"http://www.w3.org/2000/svg\" height=\"24px\"viewBox=\"0 0 24 24\"\n",
              "       width=\"24px\">\n",
              "    <path d=\"M0 0h24v24H0V0z\" fill=\"none\"/>\n",
              "    <path d=\"M18.56 5.44l.94 2.06.94-2.06 2.06-.94-2.06-.94-.94-2.06-.94 2.06-2.06.94zm-11 1L8.5 8.5l.94-2.06 2.06-.94-2.06-.94L8.5 2.5l-.94 2.06-2.06.94zm10 10l.94 2.06.94-2.06 2.06-.94-2.06-.94-.94-2.06-.94 2.06-2.06.94z\"/><path d=\"M17.41 7.96l-1.37-1.37c-.4-.4-.92-.59-1.43-.59-.52 0-1.04.2-1.43.59L10.3 9.45l-7.72 7.72c-.78.78-.78 2.05 0 2.83L4 21.41c.39.39.9.59 1.41.59.51 0 1.02-.2 1.41-.59l7.78-7.78 2.81-2.81c.8-.78.8-2.07 0-2.86zM5.41 20L4 18.59l7.72-7.72 1.47 1.35L5.41 20z\"/>\n",
              "  </svg>\n",
              "      </button>\n",
              "      \n",
              "  <style>\n",
              "    .colab-df-container {\n",
              "      display:flex;\n",
              "      flex-wrap:wrap;\n",
              "      gap: 12px;\n",
              "    }\n",
              "\n",
              "    .colab-df-convert {\n",
              "      background-color: #E8F0FE;\n",
              "      border: none;\n",
              "      border-radius: 50%;\n",
              "      cursor: pointer;\n",
              "      display: none;\n",
              "      fill: #1967D2;\n",
              "      height: 32px;\n",
              "      padding: 0 0 0 0;\n",
              "      width: 32px;\n",
              "    }\n",
              "\n",
              "    .colab-df-convert:hover {\n",
              "      background-color: #E2EBFA;\n",
              "      box-shadow: 0px 1px 2px rgba(60, 64, 67, 0.3), 0px 1px 3px 1px rgba(60, 64, 67, 0.15);\n",
              "      fill: #174EA6;\n",
              "    }\n",
              "\n",
              "    [theme=dark] .colab-df-convert {\n",
              "      background-color: #3B4455;\n",
              "      fill: #D2E3FC;\n",
              "    }\n",
              "\n",
              "    [theme=dark] .colab-df-convert:hover {\n",
              "      background-color: #434B5C;\n",
              "      box-shadow: 0px 1px 3px 1px rgba(0, 0, 0, 0.15);\n",
              "      filter: drop-shadow(0px 1px 2px rgba(0, 0, 0, 0.3));\n",
              "      fill: #FFFFFF;\n",
              "    }\n",
              "  </style>\n",
              "\n",
              "      <script>\n",
              "        const buttonEl =\n",
              "          document.querySelector('#df-2bd303d9-f2ac-4b2e-926a-6320e93af7d0 button.colab-df-convert');\n",
              "        buttonEl.style.display =\n",
              "          google.colab.kernel.accessAllowed ? 'block' : 'none';\n",
              "\n",
              "        async function convertToInteractive(key) {\n",
              "          const element = document.querySelector('#df-2bd303d9-f2ac-4b2e-926a-6320e93af7d0');\n",
              "          const dataTable =\n",
              "            await google.colab.kernel.invokeFunction('convertToInteractive',\n",
              "                                                     [key], {});\n",
              "          if (!dataTable) return;\n",
              "\n",
              "          const docLinkHtml = 'Like what you see? Visit the ' +\n",
              "            '<a target=\"_blank\" href=https://colab.research.google.com/notebooks/data_table.ipynb>data table notebook</a>'\n",
              "            + ' to learn more about interactive tables.';\n",
              "          element.innerHTML = '';\n",
              "          dataTable['output_type'] = 'display_data';\n",
              "          await google.colab.output.renderOutput(dataTable, element);\n",
              "          const docLink = document.createElement('div');\n",
              "          docLink.innerHTML = docLinkHtml;\n",
              "          element.appendChild(docLink);\n",
              "        }\n",
              "      </script>\n",
              "    </div>\n",
              "  </div>\n",
              "  "
            ]
          },
          "metadata": {},
          "execution_count": 21
        }
      ]
    },
    {
      "cell_type": "code",
      "execution_count": null,
      "metadata": {
        "colab": {
          "base_uri": "https://localhost:8080/"
        },
        "id": "qOXmSp5eERPh",
        "outputId": "fd259c51-ce4c-4b26-9ff9-1e3b418d9ff1"
      },
      "outputs": [
        {
          "output_type": "stream",
          "name": "stdout",
          "text": [
            "NOMES DOS 10 BLOCOS MAIS POPULARES NO REGISTRO DE AÇÕES:\n",
            "\n"
          ]
        },
        {
          "output_type": "execute_result",
          "data": {
            "text/plain": [
              "{'Funk You': 135,\n",
              " 'EntÃ£o, Brilha!': 77,\n",
              " 'Baianas Ozadas': 75,\n",
              " 'Chama o SÃ\\xadndico': 64,\n",
              " 'Quando come se lambuza': 61,\n",
              " 'Bloco Juventude Bronzeada': 60,\n",
              " 'Transa! - AtrÃ¡s do trio elÃ©trico': 60,\n",
              " 'Tchanzinho Zona Norte': 60,\n",
              " 'ArrastÃ£o EletrÃ´nico': 51,\n",
              " 'Trio Sem Frescuras da @bsurda': 48}"
            ]
          },
          "metadata": {},
          "execution_count": 22
        }
      ],
      "source": [
        "blocos_names1 = []\n",
        "for i in blocos1:\n",
        "  a = i.find(\"Bloco - \") + len(\"Bloco - \")\n",
        "  bloco1 = i[a:]\n",
        "  if bloco1 != '':\n",
        "    blocos_names1.append(bloco1)\n",
        "blocos_names1 = set(blocos_names1)\n",
        "\n",
        "frequent_blocos1 = {}\n",
        "popular_blocos1 = {}\n",
        "for i in blocos_names1:\n",
        "  frequent_blocos1[i]=df_EventTracks[df_EventTracks['Action'].str.contains(i, na=False)].Action.count()\n",
        "ordered_blocos1 = sorted(frequent_blocos1, key=frequent_blocos1.get, reverse=True)[:10]\n",
        "for bloco1 in ordered_blocos1:\n",
        "  popular_blocos1[bloco1]= frequent_blocos1[bloco1]\n",
        "\n",
        "print('NOMES DOS 10 BLOCOS MAIS POPULARES NO REGISTRO DE AÇÕES:\\n')\n",
        "popular_blocos1"
      ]
    },
    {
      "cell_type": "code",
      "execution_count": null,
      "metadata": {
        "colab": {
          "base_uri": "https://localhost:8080/"
        },
        "id": "nilBBQPbclH9",
        "outputId": "f7379b0d-f3e3-4533-c49f-0737aa359054"
      },
      "outputs": [
        {
          "output_type": "stream",
          "name": "stdout",
          "text": [
            "NOMES DOS BLOCOS MAIS POPULARES:\n",
            "\n",
            " {'Funk You': 287, 'EntÃ£o, Brilha!': 77, 'Baianas Ozadas': 153, 'Chama o SÃ\\xadndico': 129, 'Quando come se lambuza': 120, 'Bloco Juventude Bronzeada': 127, 'Transa! - AtrÃ¡s do trio elÃ©trico': 114, 'Tchanzinho Zona Norte': 120, 'ArrastÃ£o EletrÃ´nico': 128, 'Trio Sem Frescuras da @bsurda': 48, 'Baque de Mina': 57, 'Haja Amor': 50}\n"
          ]
        }
      ],
      "source": [
        "# Juntamos em uma só lista os blocos mais populares, em mensagens e ações:\n",
        "\n",
        "most_popular_blocos={}\n",
        "for a in popular_blocos:\n",
        "  for b in popular_blocos1:\n",
        "    if a==b:\n",
        "      most_popular_blocos[a]= popular_blocos[a] + popular_blocos1[b]\n",
        "    else:\n",
        "      if most_popular_blocos.get(a, 'non-existent') == 'non-existent':\n",
        "        most_popular_blocos[a] = popular_blocos[a]\n",
        "      else:\n",
        "        None\n",
        "      if most_popular_blocos.get(b, 'non-existent') == 'non-existent':\n",
        "        most_popular_blocos[b] = popular_blocos1[b]\n",
        "      else:\n",
        "        None\n",
        "print('NOMES DOS BLOCOS MAIS POPULARES:\\n\\n', most_popular_blocos)"
      ]
    },
    {
      "cell_type": "code",
      "execution_count": null,
      "metadata": {
        "colab": {
          "base_uri": "https://localhost:8080/",
          "height": 175
        },
        "id": "rVXCKKO8ufjg",
        "outputId": "0f950545-5ee8-461d-d179-6e32849da1e2"
      },
      "outputs": [
        {
          "output_type": "execute_result",
          "data": {
            "text/plain": [
              "                   Bloco  Ocorrencias\n",
              "0               Funk You          287\n",
              "2         Baianas Ozadas          153\n",
              "3       Chama o SÃ­ndico          129\n",
              "8  ArrastÃ£o EletrÃ´nico          128"
            ],
            "text/html": [
              "\n",
              "  <div id=\"df-afb9ba38-d2c1-402b-8d6a-a400c8a57ed6\">\n",
              "    <div class=\"colab-df-container\">\n",
              "      <div>\n",
              "<style scoped>\n",
              "    .dataframe tbody tr th:only-of-type {\n",
              "        vertical-align: middle;\n",
              "    }\n",
              "\n",
              "    .dataframe tbody tr th {\n",
              "        vertical-align: top;\n",
              "    }\n",
              "\n",
              "    .dataframe thead th {\n",
              "        text-align: right;\n",
              "    }\n",
              "</style>\n",
              "<table border=\"1\" class=\"dataframe\">\n",
              "  <thead>\n",
              "    <tr style=\"text-align: right;\">\n",
              "      <th></th>\n",
              "      <th>Bloco</th>\n",
              "      <th>Ocorrencias</th>\n",
              "    </tr>\n",
              "  </thead>\n",
              "  <tbody>\n",
              "    <tr>\n",
              "      <th>0</th>\n",
              "      <td>Funk You</td>\n",
              "      <td>287</td>\n",
              "    </tr>\n",
              "    <tr>\n",
              "      <th>2</th>\n",
              "      <td>Baianas Ozadas</td>\n",
              "      <td>153</td>\n",
              "    </tr>\n",
              "    <tr>\n",
              "      <th>3</th>\n",
              "      <td>Chama o SÃ­ndico</td>\n",
              "      <td>129</td>\n",
              "    </tr>\n",
              "    <tr>\n",
              "      <th>8</th>\n",
              "      <td>ArrastÃ£o EletrÃ´nico</td>\n",
              "      <td>128</td>\n",
              "    </tr>\n",
              "  </tbody>\n",
              "</table>\n",
              "</div>\n",
              "      <button class=\"colab-df-convert\" onclick=\"convertToInteractive('df-afb9ba38-d2c1-402b-8d6a-a400c8a57ed6')\"\n",
              "              title=\"Convert this dataframe to an interactive table.\"\n",
              "              style=\"display:none;\">\n",
              "        \n",
              "  <svg xmlns=\"http://www.w3.org/2000/svg\" height=\"24px\"viewBox=\"0 0 24 24\"\n",
              "       width=\"24px\">\n",
              "    <path d=\"M0 0h24v24H0V0z\" fill=\"none\"/>\n",
              "    <path d=\"M18.56 5.44l.94 2.06.94-2.06 2.06-.94-2.06-.94-.94-2.06-.94 2.06-2.06.94zm-11 1L8.5 8.5l.94-2.06 2.06-.94-2.06-.94L8.5 2.5l-.94 2.06-2.06.94zm10 10l.94 2.06.94-2.06 2.06-.94-2.06-.94-.94-2.06-.94 2.06-2.06.94z\"/><path d=\"M17.41 7.96l-1.37-1.37c-.4-.4-.92-.59-1.43-.59-.52 0-1.04.2-1.43.59L10.3 9.45l-7.72 7.72c-.78.78-.78 2.05 0 2.83L4 21.41c.39.39.9.59 1.41.59.51 0 1.02-.2 1.41-.59l7.78-7.78 2.81-2.81c.8-.78.8-2.07 0-2.86zM5.41 20L4 18.59l7.72-7.72 1.47 1.35L5.41 20z\"/>\n",
              "  </svg>\n",
              "      </button>\n",
              "      \n",
              "  <style>\n",
              "    .colab-df-container {\n",
              "      display:flex;\n",
              "      flex-wrap:wrap;\n",
              "      gap: 12px;\n",
              "    }\n",
              "\n",
              "    .colab-df-convert {\n",
              "      background-color: #E8F0FE;\n",
              "      border: none;\n",
              "      border-radius: 50%;\n",
              "      cursor: pointer;\n",
              "      display: none;\n",
              "      fill: #1967D2;\n",
              "      height: 32px;\n",
              "      padding: 0 0 0 0;\n",
              "      width: 32px;\n",
              "    }\n",
              "\n",
              "    .colab-df-convert:hover {\n",
              "      background-color: #E2EBFA;\n",
              "      box-shadow: 0px 1px 2px rgba(60, 64, 67, 0.3), 0px 1px 3px 1px rgba(60, 64, 67, 0.15);\n",
              "      fill: #174EA6;\n",
              "    }\n",
              "\n",
              "    [theme=dark] .colab-df-convert {\n",
              "      background-color: #3B4455;\n",
              "      fill: #D2E3FC;\n",
              "    }\n",
              "\n",
              "    [theme=dark] .colab-df-convert:hover {\n",
              "      background-color: #434B5C;\n",
              "      box-shadow: 0px 1px 3px 1px rgba(0, 0, 0, 0.15);\n",
              "      filter: drop-shadow(0px 1px 2px rgba(0, 0, 0, 0.3));\n",
              "      fill: #FFFFFF;\n",
              "    }\n",
              "  </style>\n",
              "\n",
              "      <script>\n",
              "        const buttonEl =\n",
              "          document.querySelector('#df-afb9ba38-d2c1-402b-8d6a-a400c8a57ed6 button.colab-df-convert');\n",
              "        buttonEl.style.display =\n",
              "          google.colab.kernel.accessAllowed ? 'block' : 'none';\n",
              "\n",
              "        async function convertToInteractive(key) {\n",
              "          const element = document.querySelector('#df-afb9ba38-d2c1-402b-8d6a-a400c8a57ed6');\n",
              "          const dataTable =\n",
              "            await google.colab.kernel.invokeFunction('convertToInteractive',\n",
              "                                                     [key], {});\n",
              "          if (!dataTable) return;\n",
              "\n",
              "          const docLinkHtml = 'Like what you see? Visit the ' +\n",
              "            '<a target=\"_blank\" href=https://colab.research.google.com/notebooks/data_table.ipynb>data table notebook</a>'\n",
              "            + ' to learn more about interactive tables.';\n",
              "          element.innerHTML = '';\n",
              "          dataTable['output_type'] = 'display_data';\n",
              "          await google.colab.output.renderOutput(dataTable, element);\n",
              "          const docLink = document.createElement('div');\n",
              "          docLink.innerHTML = docLinkHtml;\n",
              "          element.appendChild(docLink);\n",
              "        }\n",
              "      </script>\n",
              "    </div>\n",
              "  </div>\n",
              "  "
            ]
          },
          "metadata": {},
          "execution_count": 24
        }
      ],
      "source": [
        "df_most_popular_blocos = pd.DataFrame(list(most_popular_blocos.items()), columns=['Bloco','Ocorrencias'])\n",
        "df_most_popular_blocos = df_most_popular_blocos.sort_values(by='Ocorrencias', ascending=False)[:4]\n",
        "df_most_popular_blocos"
      ]
    },
    {
      "cell_type": "code",
      "execution_count": null,
      "metadata": {
        "colab": {
          "base_uri": "https://localhost:8080/"
        },
        "id": "7za95tw0xzvT",
        "outputId": "da78943f-fe80-4050-e5cc-e6267f29651b"
      },
      "outputs": [
        {
          "output_type": "stream",
          "name": "stdout",
          "text": [
            "O bloco mais popular foi: Funk You\n"
          ]
        }
      ],
      "source": [
        "most_popular_bloco = max(most_popular_blocos, key= most_popular_blocos.get)\n",
        "print('O bloco mais popular foi:', most_popular_bloco)\n"
      ]
    },
    {
      "cell_type": "code",
      "execution_count": null,
      "metadata": {
        "colab": {
          "base_uri": "https://localhost:8080/",
          "height": 586
        },
        "id": "2kntpN_AuhF5",
        "outputId": "b8f77f32-957f-42c9-c7e8-18ca781d6eac"
      },
      "outputs": [
        {
          "output_type": "display_data",
          "data": {
            "text/plain": [
              "<Figure size 864x576 with 1 Axes>"
            ],
            "image/png": "[encoded data removed]"
          },
          "metadata": {
            "needs_background": "light"
          }
        }
      ],
      "source": [
        "#Criando o gráfico\n",
        "\n",
        "fig, ax1 = plt.subplots(nrows=1, ncols=1, figsize=(12,8))\n",
        "\n",
        "ax1.bar('Bloco', 'Ocorrencias', data= df_most_popular_blocos, \n",
        "       color=['red', 'orange', 'orange','orange','orange',\n",
        "              'orange','orange','orange','orange','orange'], width=0.6)\n",
        "\n",
        "#titulo\n",
        "ax1.text(-0.005, 350, 'Blocos mais populares', fontsize=16, \n",
        "         color='gray', fontweight='bold')\n",
        "\n",
        "#Remover eixos e aparência geral - Casos\n",
        "ax1.spines['top'].set_visible(False)\n",
        "ax1.spines['right'].set_visible(False)\n",
        "ax1.set_yticks(ticks=[])\n",
        "\n",
        "\n",
        "#Alterando o tamanho dos rótulos no eixos X e Y\n",
        "for l in (ax1.get_xticklabels() + ax1.get_yticklabels()):\n",
        "  l.set_fontsize(11)\n",
        "\n",
        "#Criando função para exibir rótulos\n",
        "for i in ax1.patches:\n",
        "    ax1.text(i.get_x() + i.get_width()/2, \n",
        "            i.get_height() + 8, \n",
        "            '{:,}'.format(i.get_height()),\n",
        "            ha = 'center',\n",
        "            fontsize = 20, \n",
        "            color = 'black') \n",
        "\n",
        "ax1.set_xlabel('Nome do bloco',  color='gray', fontsize=15)\n",
        "ax1.set_ylabel('Ocorrencias', fontsize=15, color='gray', fontweight='bold')\n",
        "\n",
        "plt.tight_layout()"
      ]
    },
    {
      "cell_type": "markdown",
      "source": [
        "## <font color=darkblue size=4>  **4.1) Quais foram as datas mais quentes?**"
      ],
      "metadata": {
        "id": "exNFhZfVKGDh"
      }
    },
    {
      "cell_type": "code",
      "source": [
        "df_EventTracks"
      ],
      "metadata": {
        "colab": {
          "base_uri": "https://localhost:8080/",
          "height": 423
        },
        "id": "jvVONOrpQJek",
        "outputId": "a7830a25-27e3-448d-ea4f-522833603d8b"
      },
      "execution_count": null,
      "outputs": [
        {
          "output_type": "execute_result",
          "data": {
            "text/plain": [
              "       EventTrackSequentialID         OwnerIdentity  \\\n",
              "0                         100  carnabelo@msging.net   \n",
              "1                         101  carnabelo@msging.net   \n",
              "2                         102  carnabelo@msging.net   \n",
              "3                         103  carnabelo@msging.net   \n",
              "4                         104  carnabelo@msging.net   \n",
              "...                       ...                   ...   \n",
              "52895                   62980  carnabelo@msging.net   \n",
              "52896                   62981  carnabelo@msging.net   \n",
              "52897                   62982  carnabelo@msging.net   \n",
              "52898                   62983  carnabelo@msging.net   \n",
              "52899                   62984  carnabelo@msging.net   \n",
              "\n",
              "                         StorageDate           Category  \\\n",
              "0      2018-02-02 13:51:59.72 -02:00               Flow   \n",
              "1      2018-02-02 13:52:10.89 -02:00               Flow   \n",
              "2      2018-02-02 13:52:10.98 -02:00           Objetivo   \n",
              "3      2018-02-02 13:52:13.15 -02:00               Flow   \n",
              "4      2018-02-02 13:52:17.34 -02:00               Flow   \n",
              "...                              ...                ...   \n",
              "52895  2018-02-27 09:16:34.80 -03:00               Flow   \n",
              "52896  2018-02-27 09:16:34.87 -03:00  Pesquisa - Bairro   \n",
              "52897  2018-02-27 10:17:09.71 -03:00               Flow   \n",
              "52898  2018-02-27 10:17:09.87 -03:00               Flow   \n",
              "52899  2018-02-27 10:17:14.26 -03:00               Flow   \n",
              "\n",
              "                                  Action  \n",
              "0                            Boas vindas  \n",
              "1                       Objetivo - Beber  \n",
              "2                                  Beber  \n",
              "3                                  Intro  \n",
              "4                                   Menu  \n",
              "...                                  ...  \n",
              "52895  API  - Carrossel blocos  - Agenda  \n",
              "52896                         Santa Rosa  \n",
              "52897           Respostas para carrossel  \n",
              "52898               Compartilhar - Intro  \n",
              "52899                Compartilhar - Card  \n",
              "\n",
              "[52900 rows x 5 columns]"
            ],
            "text/html": [
              "\n",
              "  <div id=\"df-a6cd74de-7378-4030-8ab4-f903d3683563\">\n",
              "    <div class=\"colab-df-container\">\n",
              "      <div>\n",
              "<style scoped>\n",
              "    .dataframe tbody tr th:only-of-type {\n",
              "        vertical-align: middle;\n",
              "    }\n",
              "\n",
              "    .dataframe tbody tr th {\n",
              "        vertical-align: top;\n",
              "    }\n",
              "\n",
              "    .dataframe thead th {\n",
              "        text-align: right;\n",
              "    }\n",
              "</style>\n",
              "<table border=\"1\" class=\"dataframe\">\n",
              "  <thead>\n",
              "    <tr style=\"text-align: right;\">\n",
              "      <th></th>\n",
              "      <th>EventTrackSequentialID</th>\n",
              "      <th>OwnerIdentity</th>\n",
              "      <th>StorageDate</th>\n",
              "      <th>Category</th>\n",
              "      <th>Action</th>\n",
              "    </tr>\n",
              "  </thead>\n",
              "  <tbody>\n",
              "    <tr>\n",
              "      <th>0</th>\n",
              "      <td>100</td>\n",
              "      <td>carnabelo@msging.net</td>\n",
              "      <td>2018-02-02 13:51:59.72 -02:00</td>\n",
              "      <td>Flow</td>\n",
              "      <td>Boas vindas</td>\n",
              "    </tr>\n",
              "    <tr>\n",
              "      <th>1</th>\n",
              "      <td>101</td>\n",
              "      <td>carnabelo@msging.net</td>\n",
              "      <td>2018-02-02 13:52:10.89 -02:00</td>\n",
              "      <td>Flow</td>\n",
              "      <td>Objetivo - Beber</td>\n",
              "    </tr>\n",
              "    <tr>\n",
              "      <th>2</th>\n",
              "      <td>102</td>\n",
              "      <td>carnabelo@msging.net</td>\n",
              "      <td>2018-02-02 13:52:10.98 -02:00</td>\n",
              "      <td>Objetivo</td>\n",
              "      <td>Beber</td>\n",
              "    </tr>\n",
              "    <tr>\n",
              "      <th>3</th>\n",
              "      <td>103</td>\n",
              "      <td>carnabelo@msging.net</td>\n",
              "      <td>2018-02-02 13:52:13.15 -02:00</td>\n",
              "      <td>Flow</td>\n",
              "      <td>Intro</td>\n",
              "    </tr>\n",
              "    <tr>\n",
              "      <th>4</th>\n",
              "      <td>104</td>\n",
              "      <td>carnabelo@msging.net</td>\n",
              "      <td>2018-02-02 13:52:17.34 -02:00</td>\n",
              "      <td>Flow</td>\n",
              "      <td>Menu</td>\n",
              "    </tr>\n",
              "    <tr>\n",
              "      <th>...</th>\n",
              "      <td>...</td>\n",
              "      <td>...</td>\n",
              "      <td>...</td>\n",
              "      <td>...</td>\n",
              "      <td>...</td>\n",
              "    </tr>\n",
              "    <tr>\n",
              "      <th>52895</th>\n",
              "      <td>62980</td>\n",
              "      <td>carnabelo@msging.net</td>\n",
              "      <td>2018-02-27 09:16:34.80 -03:00</td>\n",
              "      <td>Flow</td>\n",
              "      <td>API  - Carrossel blocos  - Agenda</td>\n",
              "    </tr>\n",
              "    <tr>\n",
              "      <th>52896</th>\n",
              "      <td>62981</td>\n",
              "      <td>carnabelo@msging.net</td>\n",
              "      <td>2018-02-27 09:16:34.87 -03:00</td>\n",
              "      <td>Pesquisa - Bairro</td>\n",
              "      <td>Santa Rosa</td>\n",
              "    </tr>\n",
              "    <tr>\n",
              "      <th>52897</th>\n",
              "      <td>62982</td>\n",
              "      <td>carnabelo@msging.net</td>\n",
              "      <td>2018-02-27 10:17:09.71 -03:00</td>\n",
              "      <td>Flow</td>\n",
              "      <td>Respostas para carrossel</td>\n",
              "    </tr>\n",
              "    <tr>\n",
              "      <th>52898</th>\n",
              "      <td>62983</td>\n",
              "      <td>carnabelo@msging.net</td>\n",
              "      <td>2018-02-27 10:17:09.87 -03:00</td>\n",
              "      <td>Flow</td>\n",
              "      <td>Compartilhar - Intro</td>\n",
              "    </tr>\n",
              "    <tr>\n",
              "      <th>52899</th>\n",
              "      <td>62984</td>\n",
              "      <td>carnabelo@msging.net</td>\n",
              "      <td>2018-02-27 10:17:14.26 -03:00</td>\n",
              "      <td>Flow</td>\n",
              "      <td>Compartilhar - Card</td>\n",
              "    </tr>\n",
              "  </tbody>\n",
              "</table>\n",
              "<p>52900 rows × 5 columns</p>\n",
              "</div>\n",
              "      <button class=\"colab-df-convert\" onclick=\"convertToInteractive('df-a6cd74de-7378-4030-8ab4-f903d3683563')\"\n",
              "              title=\"Convert this dataframe to an interactive table.\"\n",
              "              style=\"display:none;\">\n",
              "        \n",
              "  <svg xmlns=\"http://www.w3.org/2000/svg\" height=\"24px\"viewBox=\"0 0 24 24\"\n",
              "       width=\"24px\">\n",
              "    <path d=\"M0 0h24v24H0V0z\" fill=\"none\"/>\n",
              "    <path d=\"M18.56 5.44l.94 2.06.94-2.06 2.06-.94-2.06-.94-.94-2.06-.94 2.06-2.06.94zm-11 1L8.5 8.5l.94-2.06 2.06-.94-2.06-.94L8.5 2.5l-.94 2.06-2.06.94zm10 10l.94 2.06.94-2.06 2.06-.94-2.06-.94-.94-2.06-.94 2.06-2.06.94z\"/><path d=\"M17.41 7.96l-1.37-1.37c-.4-.4-.92-.59-1.43-.59-.52 0-1.04.2-1.43.59L10.3 9.45l-7.72 7.72c-.78.78-.78 2.05 0 2.83L4 21.41c.39.39.9.59 1.41.59.51 0 1.02-.2 1.41-.59l7.78-7.78 2.81-2.81c.8-.78.8-2.07 0-2.86zM5.41 20L4 18.59l7.72-7.72 1.47 1.35L5.41 20z\"/>\n",
              "  </svg>\n",
              "      </button>\n",
              "      \n",
              "  <style>\n",
              "    .colab-df-container {\n",
              "      display:flex;\n",
              "      flex-wrap:wrap;\n",
              "      gap: 12px;\n",
              "    }\n",
              "\n",
              "    .colab-df-convert {\n",
              "      background-color: #E8F0FE;\n",
              "      border: none;\n",
              "      border-radius: 50%;\n",
              "      cursor: pointer;\n",
              "      display: none;\n",
              "      fill: #1967D2;\n",
              "      height: 32px;\n",
              "      padding: 0 0 0 0;\n",
              "      width: 32px;\n",
              "    }\n",
              "\n",
              "    .colab-df-convert:hover {\n",
              "      background-color: #E2EBFA;\n",
              "      box-shadow: 0px 1px 2px rgba(60, 64, 67, 0.3), 0px 1px 3px 1px rgba(60, 64, 67, 0.15);\n",
              "      fill: #174EA6;\n",
              "    }\n",
              "\n",
              "    [theme=dark] .colab-df-convert {\n",
              "      background-color: #3B4455;\n",
              "      fill: #D2E3FC;\n",
              "    }\n",
              "\n",
              "    [theme=dark] .colab-df-convert:hover {\n",
              "      background-color: #434B5C;\n",
              "      box-shadow: 0px 1px 3px 1px rgba(0, 0, 0, 0.15);\n",
              "      filter: drop-shadow(0px 1px 2px rgba(0, 0, 0, 0.3));\n",
              "      fill: #FFFFFF;\n",
              "    }\n",
              "  </style>\n",
              "\n",
              "      <script>\n",
              "        const buttonEl =\n",
              "          document.querySelector('#df-a6cd74de-7378-4030-8ab4-f903d3683563 button.colab-df-convert');\n",
              "        buttonEl.style.display =\n",
              "          google.colab.kernel.accessAllowed ? 'block' : 'none';\n",
              "\n",
              "        async function convertToInteractive(key) {\n",
              "          const element = document.querySelector('#df-a6cd74de-7378-4030-8ab4-f903d3683563');\n",
              "          const dataTable =\n",
              "            await google.colab.kernel.invokeFunction('convertToInteractive',\n",
              "                                                     [key], {});\n",
              "          if (!dataTable) return;\n",
              "\n",
              "          const docLinkHtml = 'Like what you see? Visit the ' +\n",
              "            '<a target=\"_blank\" href=https://colab.research.google.com/notebooks/data_table.ipynb>data table notebook</a>'\n",
              "            + ' to learn more about interactive tables.';\n",
              "          element.innerHTML = '';\n",
              "          dataTable['output_type'] = 'display_data';\n",
              "          await google.colab.output.renderOutput(dataTable, element);\n",
              "          const docLink = document.createElement('div');\n",
              "          docLink.innerHTML = docLinkHtml;\n",
              "          element.appendChild(docLink);\n",
              "        }\n",
              "      </script>\n",
              "    </div>\n",
              "  </div>\n",
              "  "
            ]
          },
          "metadata": {},
          "execution_count": 27
        }
      ]
    },
    {
      "cell_type": "code",
      "execution_count": null,
      "metadata": {
        "id": "YrxW8l1VHupC"
      },
      "outputs": [],
      "source": [
        "df_Messages['StorageDate'] = pd.to_datetime(df_Messages.StorageDate, utc=True)\n",
        "df_EventTracks['StorageDate'] = pd.to_datetime(df_Messages.StorageDate, utc=True)"
      ]
    },
    {
      "cell_type": "code",
      "source": [
        "def day_time(hour_minute):\n",
        "  hora, minuto = hour_minute.split(':')\n",
        "  decimal_time = float(hora)+(float(minuto)/60)\n",
        "  if decimal_time>0 and decimal_time<4:\n",
        "    return '[00-4)'\n",
        "  elif decimal_time >= 4 and decimal_time<8:\n",
        "    return '[4-8)'\n",
        "  elif decimal_time >=8 and decimal_time<12:\n",
        "    return '[8-12)'\n",
        "  elif decimal_time >=12 and decimal_time<16:\n",
        "    return '[12-16)'\n",
        "  elif decimal_time>=16 and decimal_time<20:\n",
        "    return '[16-20)'\n",
        "  elif decimal_time>=20 and decimal_time<24:\n",
        "    return '[20-24)'\n",
        "\n",
        "def day_name(number_day):\n",
        "  if number_day % 7 == 0:\n",
        "    return 'quarta'\n",
        "  if number_day % 7 == 1:\n",
        "    return 'quinta'\n",
        "  if number_day % 7 == 2:\n",
        "    return 'sexta'\n",
        "  if number_day % 7 == 3:\n",
        "    return 'sabado'\n",
        "  if number_day % 7 == 4:\n",
        "    return 'domingo'\n",
        "  if number_day % 7 == 5:\n",
        "    return 'segunda'\n",
        "  if number_day % 7 == 6:\n",
        "    return 'terca'"
      ],
      "metadata": {
        "id": "Ew_7bOk8QgRs"
      },
      "execution_count": null,
      "outputs": []
    },
    {
      "cell_type": "code",
      "execution_count": null,
      "metadata": {
        "id": "VDEAOAEzqSnJ"
      },
      "outputs": [],
      "source": [
        "df_Messages['Month'] = df_Messages['StorageDate'].dt.month\n",
        "df_Messages['Day_number'] = df_Messages['StorageDate'].dt.day\n",
        "df_Messages['Hour_minute'] = df_Messages['StorageDate'].dt.strftime('%H:%M')\n",
        "\n",
        "\n",
        "df_Messages['Time_slot'] = df_Messages['Hour_minute'].apply(lambda s: day_time(s))\n",
        "df_Messages['Day_name'] = df_Messages['Day_number'].apply(lambda s: day_name(s))\n",
        "\n",
        "\n",
        "df_EventTracks['Month'] = df_EventTracks['StorageDate'].dt.month\n",
        "df_EventTracks['Day_number'] = df_EventTracks['StorageDate'].dt.day\n",
        "df_EventTracks['Hour_minute'] = df_EventTracks['StorageDate'].dt.strftime('%H:%M')"
      ]
    },
    {
      "cell_type": "code",
      "source": [
        "def day_time2(hour_minute):\n",
        "  if type(hour_minute) == True:\n",
        "    hora, minuto = hour_minute.split(':')\n",
        "    decimal_time = float(hora)+(float(minuto)/60)\n",
        "    if decimal_time>0 and decimal_time<4:\n",
        "      return '[00-4)'\n",
        "    elif decimal_time >= 4 and decimal_time<8:\n",
        "      return '[4-8)'\n",
        "    elif decimal_time >=8 and decimal_time<12:\n",
        "      return '[8-12)'\n",
        "    elif decimal_time >=12 and decimal_time<16:\n",
        "      return '[12-16)'\n",
        "    elif decimal_time>=16 and decimal_time<20:\n",
        "      return '[16-20)'\n",
        "    elif decimal_time>=20 and decimal_time<24:\n",
        "      return '[20-24)'\n",
        "\n",
        "df_EventTracks['Day_name'] = df_EventTracks['Day_number'].apply(lambda s: day_name(s))\n",
        "df_EventTracks['Time_slot'] = df_EventTracks['Hour_minute'].apply(lambda s: day_time2(s))\n"
      ],
      "metadata": {
        "id": "isiZa1TXJ_0h"
      },
      "execution_count": null,
      "outputs": []
    },
    {
      "cell_type": "code",
      "execution_count": null,
      "metadata": {
        "id": "16ajBCm6wg-t",
        "colab": {
          "base_uri": "https://localhost:8080/"
        },
        "outputId": "9ba6ef0b-185b-4daa-e5ec-f0763d048c41"
      },
      "outputs": [
        {
          "output_type": "stream",
          "name": "stdout",
          "text": [
            "AS 5 DATAS MAIS QUENTES FORAM:\n",
            "\n"
          ]
        },
        {
          "output_type": "execute_result",
          "data": {
            "text/plain": [
              "10    4742\n",
              "12    4569\n",
              "13    4279\n",
              "11    3977\n",
              "9     2994\n",
              "8     1966\n",
              "2     1798\n",
              "3     1769\n",
              "14    1768\n",
              "6     1674\n",
              "Name: Day_number, dtype: int64"
            ]
          },
          "metadata": {},
          "execution_count": 31
        }
      ],
      "source": [
        "print('AS 5 DATAS MAIS QUENTES FORAM:\\n')\n",
        "df_Messages.Day_number.value_counts()[:10]"
      ]
    },
    {
      "cell_type": "code",
      "source": [
        "print('A DATA MAIS QUENTE FOI NO DIA {}  DE FEVEREIRO'.format(df_Messages.Day_number.value_counts().idxmax()))"
      ],
      "metadata": {
        "colab": {
          "base_uri": "https://localhost:8080/"
        },
        "id": "lbM2FkuEeBbu",
        "outputId": "fa3a13df-5df6-4412-df94-4349fac50ba7"
      },
      "execution_count": null,
      "outputs": [
        {
          "output_type": "stream",
          "name": "stdout",
          "text": [
            "A DATA MAIS QUENTE FOI NO DIA 10  DE FEVEREIRO\n"
          ]
        }
      ]
    },
    {
      "cell_type": "code",
      "source": [
        "datas_carnaval = df_Messages.Day_number.value_counts().to_frame().reset_index()\n",
        "datas_carnaval.rename(columns={'index':'Day_number','Day_number':'Count'}, inplace=True)\n",
        "datas_carnaval = datas_carnaval.sort_values(by='Day_number', ascending=True)"
      ],
      "metadata": {
        "id": "_PU1rJxsmYTL"
      },
      "execution_count": null,
      "outputs": []
    },
    {
      "cell_type": "code",
      "source": [
        "# Gráfico de ocorrências de mensagens por data:\n",
        "\n",
        "fig, ax = plt.subplots(nrows=1, ncols=1, figsize=(18,7))\n",
        "\n",
        "maxim = datas_carnaval.Count.max()\n",
        "minim = datas_carnaval.Count.min()\n",
        "unid = (maxim - minim)/100\n",
        "eixx = np.arange(2, 28, 1)\n",
        "eixy = np.arange(minim, maxim, unid)\n",
        "\n",
        "plt.grid(True)\n",
        "plt.xticks(eixx)\n",
        "\n",
        "plt.scatter(datas_carnaval.Day_number, datas_carnaval.Count);\n",
        "ax =plt.plot(datas_carnaval.Day_number, datas_carnaval.Count);"
      ],
      "metadata": {
        "colab": {
          "base_uri": "https://localhost:8080/",
          "height": 428
        },
        "id": "ZdZ3GIu3kIkR",
        "outputId": "c4ad5eff-a68f-49cf-b246-1c69b25324fc"
      },
      "execution_count": null,
      "outputs": [
        {
          "output_type": "display_data",
          "data": {
            "text/plain": [
              "<Figure size 1296x504 with 1 Axes>"
            ],
            "image/png": "[encoded data removed]"
          },
          "metadata": {
            "needs_background": "light"
          }
        }
      ]
    },
    {
      "cell_type": "markdown",
      "source": [
        "## <font color=darkblue size=4>  **4.2) Qual o dia da semana que registrou mais atividade?**"
      ],
      "metadata": {
        "id": "kqvHevpfe5Yi"
      }
    },
    {
      "cell_type": "code",
      "source": [
        "print('O DIA DA SEMANA QUE REGISTROU MAIS ATIVIDADE FOI {} '.format(df_Messages.Day_name.value_counts().idxmax()))\n",
        "print('\\nSEGUE O DETALHE DE TODOS OS DIAS:\\n')\n",
        "df_Messages.Day_name.value_counts()\n"
      ],
      "metadata": {
        "colab": {
          "base_uri": "https://localhost:8080/"
        },
        "id": "__FcrB9Ve6a6",
        "outputId": "90c77896-ea08-4b1a-e1a5-28a4dce0cf44"
      },
      "execution_count": null,
      "outputs": [
        {
          "output_type": "stream",
          "name": "stdout",
          "text": [
            "O DIA DA SEMANA QUE REGISTROU MAIS ATIVIDADE FOI sabado \n",
            "\n",
            "SEGUE O DETALHE DE TODOS OS DIAS:\n",
            "\n"
          ]
        },
        {
          "output_type": "execute_result",
          "data": {
            "text/plain": [
              "sabado     6558\n",
              "terca      5974\n",
              "segunda    5517\n",
              "domingo    5317\n",
              "sexta      4866\n",
              "quarta     3376\n",
              "quinta     2158\n",
              "Name: Day_name, dtype: int64"
            ]
          },
          "metadata": {},
          "execution_count": 35
        }
      ]
    },
    {
      "cell_type": "code",
      "source": [
        "df_Messages.Day_name.value_counts().plot(kind='bar');"
      ],
      "metadata": {
        "colab": {
          "base_uri": "https://localhost:8080/",
          "height": 299
        },
        "id": "zVCuric3pWPR",
        "outputId": "ebde95e5-82e2-4874-ba1b-6eb678d2acf0"
      },
      "execution_count": null,
      "outputs": [
        {
          "output_type": "display_data",
          "data": {
            "text/plain": [
              "<Figure size 432x288 with 1 Axes>"
            ],
            "image/png": "[encoded data removed]"
          },
          "metadata": {
            "needs_background": "light"
          }
        }
      ]
    },
    {
      "cell_type": "markdown",
      "metadata": {
        "id": "loXby9zOriYq"
      },
      "source": [
        "## <font color=darkblue size=4> **5) Quais foram os horários mais intensos?** </font>"
      ]
    },
    {
      "cell_type": "code",
      "execution_count": null,
      "metadata": {
        "id": "-UJle0V41WAI",
        "colab": {
          "base_uri": "https://localhost:8080/"
        },
        "outputId": "2f106c07-c8d6-4d7b-996b-7e2aadd80b34"
      },
      "outputs": [
        {
          "output_type": "execute_result",
          "data": {
            "text/plain": [
              "[12-16)    10306\n",
              "[16-20)     8316\n",
              "[20-24)     6898\n",
              "[00-4)      4250\n",
              "[8-12)      3318\n",
              "[4-8)        648\n",
              "Name: Time_slot, dtype: int64"
            ]
          },
          "metadata": {},
          "execution_count": 37
        }
      ],
      "source": [
        "timeslots = df_Messages.Time_slot.value_counts()\n",
        "timeslots"
      ]
    },
    {
      "cell_type": "code",
      "source": [
        "print('O HORÁRIO MAIS QUENTE FOI NA FAIXA DE ',timeslots.idxmax(), 'HORAS')"
      ],
      "metadata": {
        "colab": {
          "base_uri": "https://localhost:8080/"
        },
        "id": "fgnKeQWKTWR_",
        "outputId": "bcdad3a5-55f6-4829-b910-8d7a212ceb0c"
      },
      "execution_count": null,
      "outputs": [
        {
          "output_type": "stream",
          "name": "stdout",
          "text": [
            "O HORÁRIO MAIS QUENTE FOI NA FAIXA DE  [12-16) HORAS\n"
          ]
        }
      ]
    },
    {
      "cell_type": "code",
      "source": [
        "df_Messages.Time_slot.value_counts().plot(kind='bar');"
      ],
      "metadata": {
        "colab": {
          "base_uri": "https://localhost:8080/",
          "height": 292
        },
        "id": "3U_8pJSfK4Wu",
        "outputId": "bd5b30b0-90ab-4261-9cdb-10280a536a6d"
      },
      "execution_count": null,
      "outputs": [
        {
          "output_type": "display_data",
          "data": {
            "text/plain": [
              "<Figure size 432x288 with 1 Axes>"
            ],
            "image/png": "[encoded data removed]"
          },
          "metadata": {
            "needs_background": "light"
          }
        }
      ]
    },
    {
      "cell_type": "markdown",
      "source": [
        "## <font color=darkblue size=4> **6) Quais foram os bairros mais movimentados?** </font>"
      ],
      "metadata": {
        "id": "m91fn_ouIpWu"
      }
    },
    {
      "cell_type": "code",
      "source": [
        "neighborhoods = df_EventTracks[df_EventTracks.Category=='Pesquisa - Bairro'].Action.value_counts().sort_values(ascending=False)[:5]\n",
        "neighborhoods = neighborhoods.to_frame().reset_index()\n",
        "neighborhoods.rename(columns={'index':'Neighborhood','Action':'Count'}, inplace=True)\n",
        "print('OS 5 BAIRROS QUE TIVERAM MAIOR MOVIMENTO FORAM:\\n\\n')\n",
        "neighborhoods"
      ],
      "metadata": {
        "colab": {
          "base_uri": "https://localhost:8080/",
          "height": 261
        },
        "id": "fzKvqMSxFYKU",
        "outputId": "d60daa4b-ef83-4a33-c792-52d510c123b9"
      },
      "execution_count": null,
      "outputs": [
        {
          "output_type": "stream",
          "name": "stdout",
          "text": [
            "OS 5 BAIRROS QUE TIVERAM MAIOR MOVIMENTO FORAM:\n",
            "\n",
            "\n"
          ]
        },
        {
          "output_type": "execute_result",
          "data": {
            "text/plain": [
              "    Neighborhood  Count\n",
              "0         Centro    657\n",
              "1       Floresta    362\n",
              "2  FuncionÃ¡rios    348\n",
              "3   Santa Tereza    267\n",
              "4        Savassi    157"
            ],
            "text/html": [
              "\n",
              "  <div id=\"df-0d7bf36b-9998-4d8c-bc1b-1ab74268769d\">\n",
              "    <div class=\"colab-df-container\">\n",
              "      <div>\n",
              "<style scoped>\n",
              "    .dataframe tbody tr th:only-of-type {\n",
              "        vertical-align: middle;\n",
              "    }\n",
              "\n",
              "    .dataframe tbody tr th {\n",
              "        vertical-align: top;\n",
              "    }\n",
              "\n",
              "    .dataframe thead th {\n",
              "        text-align: right;\n",
              "    }\n",
              "</style>\n",
              "<table border=\"1\" class=\"dataframe\">\n",
              "  <thead>\n",
              "    <tr style=\"text-align: right;\">\n",
              "      <th></th>\n",
              "      <th>Neighborhood</th>\n",
              "      <th>Count</th>\n",
              "    </tr>\n",
              "  </thead>\n",
              "  <tbody>\n",
              "    <tr>\n",
              "      <th>0</th>\n",
              "      <td>Centro</td>\n",
              "      <td>657</td>\n",
              "    </tr>\n",
              "    <tr>\n",
              "      <th>1</th>\n",
              "      <td>Floresta</td>\n",
              "      <td>362</td>\n",
              "    </tr>\n",
              "    <tr>\n",
              "      <th>2</th>\n",
              "      <td>FuncionÃ¡rios</td>\n",
              "      <td>348</td>\n",
              "    </tr>\n",
              "    <tr>\n",
              "      <th>3</th>\n",
              "      <td>Santa Tereza</td>\n",
              "      <td>267</td>\n",
              "    </tr>\n",
              "    <tr>\n",
              "      <th>4</th>\n",
              "      <td>Savassi</td>\n",
              "      <td>157</td>\n",
              "    </tr>\n",
              "  </tbody>\n",
              "</table>\n",
              "</div>\n",
              "      <button class=\"colab-df-convert\" onclick=\"convertToInteractive('df-0d7bf36b-9998-4d8c-bc1b-1ab74268769d')\"\n",
              "              title=\"Convert this dataframe to an interactive table.\"\n",
              "              style=\"display:none;\">\n",
              "        \n",
              "  <svg xmlns=\"http://www.w3.org/2000/svg\" height=\"24px\"viewBox=\"0 0 24 24\"\n",
              "       width=\"24px\">\n",
              "    <path d=\"M0 0h24v24H0V0z\" fill=\"none\"/>\n",
              "    <path d=\"M18.56 5.44l.94 2.06.94-2.06 2.06-.94-2.06-.94-.94-2.06-.94 2.06-2.06.94zm-11 1L8.5 8.5l.94-2.06 2.06-.94-2.06-.94L8.5 2.5l-.94 2.06-2.06.94zm10 10l.94 2.06.94-2.06 2.06-.94-2.06-.94-.94-2.06-.94 2.06-2.06.94z\"/><path d=\"M17.41 7.96l-1.37-1.37c-.4-.4-.92-.59-1.43-.59-.52 0-1.04.2-1.43.59L10.3 9.45l-7.72 7.72c-.78.78-.78 2.05 0 2.83L4 21.41c.39.39.9.59 1.41.59.51 0 1.02-.2 1.41-.59l7.78-7.78 2.81-2.81c.8-.78.8-2.07 0-2.86zM5.41 20L4 18.59l7.72-7.72 1.47 1.35L5.41 20z\"/>\n",
              "  </svg>\n",
              "      </button>\n",
              "      \n",
              "  <style>\n",
              "    .colab-df-container {\n",
              "      display:flex;\n",
              "      flex-wrap:wrap;\n",
              "      gap: 12px;\n",
              "    }\n",
              "\n",
              "    .colab-df-convert {\n",
              "      background-color: #E8F0FE;\n",
              "      border: none;\n",
              "      border-radius: 50%;\n",
              "      cursor: pointer;\n",
              "      display: none;\n",
              "      fill: #1967D2;\n",
              "      height: 32px;\n",
              "      padding: 0 0 0 0;\n",
              "      width: 32px;\n",
              "    }\n",
              "\n",
              "    .colab-df-convert:hover {\n",
              "      background-color: #E2EBFA;\n",
              "      box-shadow: 0px 1px 2px rgba(60, 64, 67, 0.3), 0px 1px 3px 1px rgba(60, 64, 67, 0.15);\n",
              "      fill: #174EA6;\n",
              "    }\n",
              "\n",
              "    [theme=dark] .colab-df-convert {\n",
              "      background-color: #3B4455;\n",
              "      fill: #D2E3FC;\n",
              "    }\n",
              "\n",
              "    [theme=dark] .colab-df-convert:hover {\n",
              "      background-color: #434B5C;\n",
              "      box-shadow: 0px 1px 3px 1px rgba(0, 0, 0, 0.15);\n",
              "      filter: drop-shadow(0px 1px 2px rgba(0, 0, 0, 0.3));\n",
              "      fill: #FFFFFF;\n",
              "    }\n",
              "  </style>\n",
              "\n",
              "      <script>\n",
              "        const buttonEl =\n",
              "          document.querySelector('#df-0d7bf36b-9998-4d8c-bc1b-1ab74268769d button.colab-df-convert');\n",
              "        buttonEl.style.display =\n",
              "          google.colab.kernel.accessAllowed ? 'block' : 'none';\n",
              "\n",
              "        async function convertToInteractive(key) {\n",
              "          const element = document.querySelector('#df-0d7bf36b-9998-4d8c-bc1b-1ab74268769d');\n",
              "          const dataTable =\n",
              "            await google.colab.kernel.invokeFunction('convertToInteractive',\n",
              "                                                     [key], {});\n",
              "          if (!dataTable) return;\n",
              "\n",
              "          const docLinkHtml = 'Like what you see? Visit the ' +\n",
              "            '<a target=\"_blank\" href=https://colab.research.google.com/notebooks/data_table.ipynb>data table notebook</a>'\n",
              "            + ' to learn more about interactive tables.';\n",
              "          element.innerHTML = '';\n",
              "          dataTable['output_type'] = 'display_data';\n",
              "          await google.colab.output.renderOutput(dataTable, element);\n",
              "          const docLink = document.createElement('div');\n",
              "          docLink.innerHTML = docLinkHtml;\n",
              "          element.appendChild(docLink);\n",
              "        }\n",
              "      </script>\n",
              "    </div>\n",
              "  </div>\n",
              "  "
            ]
          },
          "metadata": {},
          "execution_count": 40
        }
      ]
    },
    {
      "cell_type": "code",
      "source": [
        "fig, ax = plt.subplots(nrows=1, ncols=1, figsize=(11,6))\n",
        "\n",
        "ax.bar('Neighborhood','Count', data= neighborhoods, width=0.5, color='lightgreen');"
      ],
      "metadata": {
        "colab": {
          "base_uri": "https://localhost:8080/",
          "height": 375
        },
        "id": "VfteJkZ4qw_g",
        "outputId": "72404284-0089-419d-ee75-4a29a99cac01"
      },
      "execution_count": null,
      "outputs": [
        {
          "output_type": "display_data",
          "data": {
            "text/plain": [
              "<Figure size 792x432 with 1 Axes>"
            ],
            "image/png": "[encoded data removed]"
          },
          "metadata": {
            "needs_background": "light"
          }
        }
      ]
    },
    {
      "cell_type": "markdown",
      "source": [
        "## <font color=darkblue size=4> **7) Os usuários utilizaram o cupom de Cabify com objeto de não dirigir?** </font>"
      ],
      "metadata": {
        "id": "jUi2_x8F5KTB"
      }
    },
    {
      "cell_type": "code",
      "source": [
        "cupom_users = df_Messages[(df_Messages.Message.str.contains('cabify|Cabif')&(df_Messages.MessageOriginator!='Bot'))].FromIdentity.value_counts().to_frame().reset_index()\n",
        "cupom_users.rename(columns={'index':'FromIdentity','FromIdentity':'Count'}, inplace=True)\n",
        "cupom_users"
      ],
      "metadata": {
        "colab": {
          "base_uri": "https://localhost:8080/",
          "height": 269
        },
        "id": "SgxKl7pi5nME",
        "outputId": "35cb75a0-99dc-4736-d6e0-c49e196a6b31"
      },
      "execution_count": null,
      "outputs": [
        {
          "output_type": "execute_result",
          "data": {
            "text/plain": [
              "                               FromIdentity  Count\n",
              "0  2132001316817479@messenger.gw.msging.net      4\n",
              "1  1513684378752106@messenger.gw.msging.net      2\n",
              "2  1767958763279497@messenger.gw.msging.net      1\n",
              "3  1775489765818948@messenger.gw.msging.net      1\n",
              "4  1648883331824659@messenger.gw.msging.net      1\n",
              "5  1571568009545564@messenger.gw.msging.net      1\n",
              "6  1579935998780065@messenger.gw.msging.net      1"
            ],
            "text/html": [
              "\n",
              "  <div id=\"df-54ee34b9-c3ea-42c7-a884-108129aef2ce\">\n",
              "    <div class=\"colab-df-container\">\n",
              "      <div>\n",
              "<style scoped>\n",
              "    .dataframe tbody tr th:only-of-type {\n",
              "        vertical-align: middle;\n",
              "    }\n",
              "\n",
              "    .dataframe tbody tr th {\n",
              "        vertical-align: top;\n",
              "    }\n",
              "\n",
              "    .dataframe thead th {\n",
              "        text-align: right;\n",
              "    }\n",
              "</style>\n",
              "<table border=\"1\" class=\"dataframe\">\n",
              "  <thead>\n",
              "    <tr style=\"text-align: right;\">\n",
              "      <th></th>\n",
              "      <th>FromIdentity</th>\n",
              "      <th>Count</th>\n",
              "    </tr>\n",
              "  </thead>\n",
              "  <tbody>\n",
              "    <tr>\n",
              "      <th>0</th>\n",
              "      <td>2132001316817479@messenger.gw.msging.net</td>\n",
              "      <td>4</td>\n",
              "    </tr>\n",
              "    <tr>\n",
              "      <th>1</th>\n",
              "      <td>1513684378752106@messenger.gw.msging.net</td>\n",
              "      <td>2</td>\n",
              "    </tr>\n",
              "    <tr>\n",
              "      <th>2</th>\n",
              "      <td>1767958763279497@messenger.gw.msging.net</td>\n",
              "      <td>1</td>\n",
              "    </tr>\n",
              "    <tr>\n",
              "      <th>3</th>\n",
              "      <td>1775489765818948@messenger.gw.msging.net</td>\n",
              "      <td>1</td>\n",
              "    </tr>\n",
              "    <tr>\n",
              "      <th>4</th>\n",
              "      <td>1648883331824659@messenger.gw.msging.net</td>\n",
              "      <td>1</td>\n",
              "    </tr>\n",
              "    <tr>\n",
              "      <th>5</th>\n",
              "      <td>1571568009545564@messenger.gw.msging.net</td>\n",
              "      <td>1</td>\n",
              "    </tr>\n",
              "    <tr>\n",
              "      <th>6</th>\n",
              "      <td>1579935998780065@messenger.gw.msging.net</td>\n",
              "      <td>1</td>\n",
              "    </tr>\n",
              "  </tbody>\n",
              "</table>\n",
              "</div>\n",
              "      <button class=\"colab-df-convert\" onclick=\"convertToInteractive('df-54ee34b9-c3ea-42c7-a884-108129aef2ce')\"\n",
              "              title=\"Convert this dataframe to an interactive table.\"\n",
              "              style=\"display:none;\">\n",
              "        \n",
              "  <svg xmlns=\"http://www.w3.org/2000/svg\" height=\"24px\"viewBox=\"0 0 24 24\"\n",
              "       width=\"24px\">\n",
              "    <path d=\"M0 0h24v24H0V0z\" fill=\"none\"/>\n",
              "    <path d=\"M18.56 5.44l.94 2.06.94-2.06 2.06-.94-2.06-.94-.94-2.06-.94 2.06-2.06.94zm-11 1L8.5 8.5l.94-2.06 2.06-.94-2.06-.94L8.5 2.5l-.94 2.06-2.06.94zm10 10l.94 2.06.94-2.06 2.06-.94-2.06-.94-.94-2.06-.94 2.06-2.06.94z\"/><path d=\"M17.41 7.96l-1.37-1.37c-.4-.4-.92-.59-1.43-.59-.52 0-1.04.2-1.43.59L10.3 9.45l-7.72 7.72c-.78.78-.78 2.05 0 2.83L4 21.41c.39.39.9.59 1.41.59.51 0 1.02-.2 1.41-.59l7.78-7.78 2.81-2.81c.8-.78.8-2.07 0-2.86zM5.41 20L4 18.59l7.72-7.72 1.47 1.35L5.41 20z\"/>\n",
              "  </svg>\n",
              "      </button>\n",
              "      \n",
              "  <style>\n",
              "    .colab-df-container {\n",
              "      display:flex;\n",
              "      flex-wrap:wrap;\n",
              "      gap: 12px;\n",
              "    }\n",
              "\n",
              "    .colab-df-convert {\n",
              "      background-color: #E8F0FE;\n",
              "      border: none;\n",
              "      border-radius: 50%;\n",
              "      cursor: pointer;\n",
              "      display: none;\n",
              "      fill: #1967D2;\n",
              "      height: 32px;\n",
              "      padding: 0 0 0 0;\n",
              "      width: 32px;\n",
              "    }\n",
              "\n",
              "    .colab-df-convert:hover {\n",
              "      background-color: #E2EBFA;\n",
              "      box-shadow: 0px 1px 2px rgba(60, 64, 67, 0.3), 0px 1px 3px 1px rgba(60, 64, 67, 0.15);\n",
              "      fill: #174EA6;\n",
              "    }\n",
              "\n",
              "    [theme=dark] .colab-df-convert {\n",
              "      background-color: #3B4455;\n",
              "      fill: #D2E3FC;\n",
              "    }\n",
              "\n",
              "    [theme=dark] .colab-df-convert:hover {\n",
              "      background-color: #434B5C;\n",
              "      box-shadow: 0px 1px 3px 1px rgba(0, 0, 0, 0.15);\n",
              "      filter: drop-shadow(0px 1px 2px rgba(0, 0, 0, 0.3));\n",
              "      fill: #FFFFFF;\n",
              "    }\n",
              "  </style>\n",
              "\n",
              "      <script>\n",
              "        const buttonEl =\n",
              "          document.querySelector('#df-54ee34b9-c3ea-42c7-a884-108129aef2ce button.colab-df-convert');\n",
              "        buttonEl.style.display =\n",
              "          google.colab.kernel.accessAllowed ? 'block' : 'none';\n",
              "\n",
              "        async function convertToInteractive(key) {\n",
              "          const element = document.querySelector('#df-54ee34b9-c3ea-42c7-a884-108129aef2ce');\n",
              "          const dataTable =\n",
              "            await google.colab.kernel.invokeFunction('convertToInteractive',\n",
              "                                                     [key], {});\n",
              "          if (!dataTable) return;\n",
              "\n",
              "          const docLinkHtml = 'Like what you see? Visit the ' +\n",
              "            '<a target=\"_blank\" href=https://colab.research.google.com/notebooks/data_table.ipynb>data table notebook</a>'\n",
              "            + ' to learn more about interactive tables.';\n",
              "          element.innerHTML = '';\n",
              "          dataTable['output_type'] = 'display_data';\n",
              "          await google.colab.output.renderOutput(dataTable, element);\n",
              "          const docLink = document.createElement('div');\n",
              "          docLink.innerHTML = docLinkHtml;\n",
              "          element.appendChild(docLink);\n",
              "        }\n",
              "      </script>\n",
              "    </div>\n",
              "  </div>\n",
              "  "
            ]
          },
          "metadata": {},
          "execution_count": 53
        }
      ]
    },
    {
      "cell_type": "code",
      "source": [
        "drinkers = df_Messages[df_Messages.Message.str.contains('beb')&(df_Messages.MessageOriginator!='Bot')].FromIdentity.value_counts().to_frame().reset_index()\n",
        "drinkers.rename(columns={'index':'FromIdentity','FromIdentity':'Count'}, inplace=True)\n",
        "drinkers"
      ],
      "metadata": {
        "colab": {
          "base_uri": "https://localhost:8080/",
          "height": 423
        },
        "id": "gxNWSY1Q8NxT",
        "outputId": "d83bec1d-0678-49d9-c2de-000993220083"
      },
      "execution_count": null,
      "outputs": [
        {
          "output_type": "execute_result",
          "data": {
            "text/plain": [
              "                                 FromIdentity  Count\n",
              "0    2132001316817479@messenger.gw.msging.net      8\n",
              "1    1298966690205449@messenger.gw.msging.net      4\n",
              "2    1566982616710813@messenger.gw.msging.net      2\n",
              "3    1675853725814963@messenger.gw.msging.net      2\n",
              "4    1242153709219386@messenger.gw.msging.net      2\n",
              "..                                        ...    ...\n",
              "107  1583793414989799@messenger.gw.msging.net      1\n",
              "108  1576766239106497@messenger.gw.msging.net      1\n",
              "109  1604698079598549@messenger.gw.msging.net      1\n",
              "110  1802911629743473@messenger.gw.msging.net      1\n",
              "111  1531177813667019@messenger.gw.msging.net      1\n",
              "\n",
              "[112 rows x 2 columns]"
            ],
            "text/html": [
              "\n",
              "  <div id=\"df-42d73422-77ee-4b8b-bfe0-1491152933a8\">\n",
              "    <div class=\"colab-df-container\">\n",
              "      <div>\n",
              "<style scoped>\n",
              "    .dataframe tbody tr th:only-of-type {\n",
              "        vertical-align: middle;\n",
              "    }\n",
              "\n",
              "    .dataframe tbody tr th {\n",
              "        vertical-align: top;\n",
              "    }\n",
              "\n",
              "    .dataframe thead th {\n",
              "        text-align: right;\n",
              "    }\n",
              "</style>\n",
              "<table border=\"1\" class=\"dataframe\">\n",
              "  <thead>\n",
              "    <tr style=\"text-align: right;\">\n",
              "      <th></th>\n",
              "      <th>FromIdentity</th>\n",
              "      <th>Count</th>\n",
              "    </tr>\n",
              "  </thead>\n",
              "  <tbody>\n",
              "    <tr>\n",
              "      <th>0</th>\n",
              "      <td>2132001316817479@messenger.gw.msging.net</td>\n",
              "      <td>8</td>\n",
              "    </tr>\n",
              "    <tr>\n",
              "      <th>1</th>\n",
              "      <td>1298966690205449@messenger.gw.msging.net</td>\n",
              "      <td>4</td>\n",
              "    </tr>\n",
              "    <tr>\n",
              "      <th>2</th>\n",
              "      <td>1566982616710813@messenger.gw.msging.net</td>\n",
              "      <td>2</td>\n",
              "    </tr>\n",
              "    <tr>\n",
              "      <th>3</th>\n",
              "      <td>1675853725814963@messenger.gw.msging.net</td>\n",
              "      <td>2</td>\n",
              "    </tr>\n",
              "    <tr>\n",
              "      <th>4</th>\n",
              "      <td>1242153709219386@messenger.gw.msging.net</td>\n",
              "      <td>2</td>\n",
              "    </tr>\n",
              "    <tr>\n",
              "      <th>...</th>\n",
              "      <td>...</td>\n",
              "      <td>...</td>\n",
              "    </tr>\n",
              "    <tr>\n",
              "      <th>107</th>\n",
              "      <td>1583793414989799@messenger.gw.msging.net</td>\n",
              "      <td>1</td>\n",
              "    </tr>\n",
              "    <tr>\n",
              "      <th>108</th>\n",
              "      <td>1576766239106497@messenger.gw.msging.net</td>\n",
              "      <td>1</td>\n",
              "    </tr>\n",
              "    <tr>\n",
              "      <th>109</th>\n",
              "      <td>1604698079598549@messenger.gw.msging.net</td>\n",
              "      <td>1</td>\n",
              "    </tr>\n",
              "    <tr>\n",
              "      <th>110</th>\n",
              "      <td>1802911629743473@messenger.gw.msging.net</td>\n",
              "      <td>1</td>\n",
              "    </tr>\n",
              "    <tr>\n",
              "      <th>111</th>\n",
              "      <td>1531177813667019@messenger.gw.msging.net</td>\n",
              "      <td>1</td>\n",
              "    </tr>\n",
              "  </tbody>\n",
              "</table>\n",
              "<p>112 rows × 2 columns</p>\n",
              "</div>\n",
              "      <button class=\"colab-df-convert\" onclick=\"convertToInteractive('df-42d73422-77ee-4b8b-bfe0-1491152933a8')\"\n",
              "              title=\"Convert this dataframe to an interactive table.\"\n",
              "              style=\"display:none;\">\n",
              "        \n",
              "  <svg xmlns=\"http://www.w3.org/2000/svg\" height=\"24px\"viewBox=\"0 0 24 24\"\n",
              "       width=\"24px\">\n",
              "    <path d=\"M0 0h24v24H0V0z\" fill=\"none\"/>\n",
              "    <path d=\"M18.56 5.44l.94 2.06.94-2.06 2.06-.94-2.06-.94-.94-2.06-.94 2.06-2.06.94zm-11 1L8.5 8.5l.94-2.06 2.06-.94-2.06-.94L8.5 2.5l-.94 2.06-2.06.94zm10 10l.94 2.06.94-2.06 2.06-.94-2.06-.94-.94-2.06-.94 2.06-2.06.94z\"/><path d=\"M17.41 7.96l-1.37-1.37c-.4-.4-.92-.59-1.43-.59-.52 0-1.04.2-1.43.59L10.3 9.45l-7.72 7.72c-.78.78-.78 2.05 0 2.83L4 21.41c.39.39.9.59 1.41.59.51 0 1.02-.2 1.41-.59l7.78-7.78 2.81-2.81c.8-.78.8-2.07 0-2.86zM5.41 20L4 18.59l7.72-7.72 1.47 1.35L5.41 20z\"/>\n",
              "  </svg>\n",
              "      </button>\n",
              "      \n",
              "  <style>\n",
              "    .colab-df-container {\n",
              "      display:flex;\n",
              "      flex-wrap:wrap;\n",
              "      gap: 12px;\n",
              "    }\n",
              "\n",
              "    .colab-df-convert {\n",
              "      background-color: #E8F0FE;\n",
              "      border: none;\n",
              "      border-radius: 50%;\n",
              "      cursor: pointer;\n",
              "      display: none;\n",
              "      fill: #1967D2;\n",
              "      height: 32px;\n",
              "      padding: 0 0 0 0;\n",
              "      width: 32px;\n",
              "    }\n",
              "\n",
              "    .colab-df-convert:hover {\n",
              "      background-color: #E2EBFA;\n",
              "      box-shadow: 0px 1px 2px rgba(60, 64, 67, 0.3), 0px 1px 3px 1px rgba(60, 64, 67, 0.15);\n",
              "      fill: #174EA6;\n",
              "    }\n",
              "\n",
              "    [theme=dark] .colab-df-convert {\n",
              "      background-color: #3B4455;\n",
              "      fill: #D2E3FC;\n",
              "    }\n",
              "\n",
              "    [theme=dark] .colab-df-convert:hover {\n",
              "      background-color: #434B5C;\n",
              "      box-shadow: 0px 1px 3px 1px rgba(0, 0, 0, 0.15);\n",
              "      filter: drop-shadow(0px 1px 2px rgba(0, 0, 0, 0.3));\n",
              "      fill: #FFFFFF;\n",
              "    }\n",
              "  </style>\n",
              "\n",
              "      <script>\n",
              "        const buttonEl =\n",
              "          document.querySelector('#df-42d73422-77ee-4b8b-bfe0-1491152933a8 button.colab-df-convert');\n",
              "        buttonEl.style.display =\n",
              "          google.colab.kernel.accessAllowed ? 'block' : 'none';\n",
              "\n",
              "        async function convertToInteractive(key) {\n",
              "          const element = document.querySelector('#df-42d73422-77ee-4b8b-bfe0-1491152933a8');\n",
              "          const dataTable =\n",
              "            await google.colab.kernel.invokeFunction('convertToInteractive',\n",
              "                                                     [key], {});\n",
              "          if (!dataTable) return;\n",
              "\n",
              "          const docLinkHtml = 'Like what you see? Visit the ' +\n",
              "            '<a target=\"_blank\" href=https://colab.research.google.com/notebooks/data_table.ipynb>data table notebook</a>'\n",
              "            + ' to learn more about interactive tables.';\n",
              "          element.innerHTML = '';\n",
              "          dataTable['output_type'] = 'display_data';\n",
              "          await google.colab.output.renderOutput(dataTable, element);\n",
              "          const docLink = document.createElement('div');\n",
              "          docLink.innerHTML = docLinkHtml;\n",
              "          element.appendChild(docLink);\n",
              "        }\n",
              "      </script>\n",
              "    </div>\n",
              "  </div>\n",
              "  "
            ]
          },
          "metadata": {},
          "execution_count": 54
        }
      ]
    },
    {
      "cell_type": "code",
      "source": [
        "cupom_drinkers = set(np.array(drinkers.FromIdentity)) - (set(np.array(drinkers.FromIdentity)) - set(np.array(cupom_users.FromIdentity)))"
      ],
      "metadata": {
        "id": "1-XyQaKQ9vLE"
      },
      "execution_count": null,
      "outputs": []
    },
    {
      "cell_type": "code",
      "source": [
        "print(len(cupom_drinkers), 'USUÁRIOS EXPRESSARAM BEBER NAS MENSAGENS E PEDIRAM CUPOM DE CAPIFY')"
      ],
      "metadata": {
        "colab": {
          "base_uri": "https://localhost:8080/"
        },
        "id": "8DMcQV4E-ArN",
        "outputId": "7e99862c-a44a-4076-b2af-fba84302dc6d"
      },
      "execution_count": null,
      "outputs": [
        {
          "output_type": "stream",
          "name": "stdout",
          "text": [
            "1 USUÁRIOS EXPRESSARAM BEBER NAS MENSAGENS E PEDIRAM CUPOM DE CAPIFY\n"
          ]
        }
      ]
    },
    {
      "cell_type": "markdown",
      "source": [
        "## <font color=darkblue size=4> **8) Quais as impressões da experiência com o chatbot expressadas pelos usuários?** </font>"
      ],
      "metadata": {
        "id": "P6m3AXeQLGbV"
      }
    },
    {
      "cell_type": "code",
      "source": [
        "# Da pesquisa de satisfação:\n",
        "\n",
        "df_EventTracks[(df_EventTracks.Category=='broad-Pesquisa_Satisfacao')].Action.value_counts()"
      ],
      "metadata": {
        "colab": {
          "base_uri": "https://localhost:8080/"
        },
        "id": "sewxAuhLLZcV",
        "outputId": "1e22580e-091c-4ce5-d98c-e2aaeb860dce"
      },
      "execution_count": null,
      "outputs": [
        {
          "output_type": "execute_result",
          "data": {
            "text/plain": [
              "broad-5 Amei               179\n",
              "broad-4 Curti               81\n",
              "broad-2 nao curti           11\n",
              "broad-1 nao gostei           8\n",
              "broad-3 nao indiferente      7\n",
              "Name: Action, dtype: int64"
            ]
          },
          "metadata": {},
          "execution_count": 77
        }
      ]
    },
    {
      "cell_type": "code",
      "source": [
        "# Das expressões de sentimento:\n",
        "df_EventTracks[df_EventTracks.Action.str.contains('Sentimento -')].Action.value_counts()"
      ],
      "metadata": {
        "colab": {
          "base_uri": "https://localhost:8080/"
        },
        "id": "9q26gBRwOidS",
        "outputId": "cb50e73f-96ab-4cba-aad2-c89431faf798"
      },
      "execution_count": null,
      "outputs": [
        {
          "output_type": "execute_result",
          "data": {
            "text/plain": [
              "Sentimento - Positivo          274\n",
              "Sentimento - Negativo - Pos    212\n",
              "Sentimento - Amor              204\n",
              "Sentimento - Negativo          177\n",
              "Name: Action, dtype: int64"
            ]
          },
          "metadata": {},
          "execution_count": 80
        }
      ]
    },
    {
      "cell_type": "markdown",
      "source": [
        "## <font color=darkblue size=4> **Dados extra para análises posteriores:** </font>\n",
        "\n",
        "Com o objetivo de fazer avaliações mais precisas, se necessário, seguem descrições adicionais de categorias e ações:"
      ],
      "metadata": {
        "id": "udM9DIKbPHjr"
      }
    },
    {
      "cell_type": "code",
      "source": [
        "# Pesquisamos quais foram as categorias mais sinalizadas:\n",
        "\n",
        "frequent_categories = df_EventTracks.Category.value_counts().to_frame().reset_index()[:10]\n",
        "frequent_categories.rename(columns={'index':'Category','Category':'Count'}, inplace=True)\n",
        "frequent_categories"
      ],
      "metadata": {
        "id": "o7fqgwMh47v-"
      },
      "execution_count": null,
      "outputs": []
    },
    {
      "cell_type": "code",
      "execution_count": null,
      "metadata": {
        "id": "zgfnFDIknJWo",
        "colab": {
          "base_uri": "https://localhost:8080/"
        },
        "outputId": "f9387c48-273d-4db1-cd66-04e867f90f69"
      },
      "outputs": [
        {
          "output_type": "stream",
          "name": "stdout",
          "text": [
            "Flow\n",
            "['Boas vindas' 'Objetivo - Beber' 'Intro' 'Menu' 'Selecionar data'\n",
            " 'API -  Carrossel - Bairro' 'API  - Carrossel blocos  - Agenda'\n",
            " 'Respostas para carrossel' 'Fallback - Nome de Bloco' 'Fallback  - IA'\n",
            " 'IA - QualSeuNome' 'IA - Quero' 'IA - Quero - Diversos'\n",
            " 'Verificar - Saudacao' 'Boa tarde' 'Saudacao' 'Ver outros blocos'\n",
            " 'API - Consultar blocos hoje' 'Intro - O que tem hoje'\n",
            " 'API  - Carrossel blocos -  Hoje' 'API - Verificar - Nome do Bloco'\n",
            " 'Erro padrao' 'Objetivo - Dancar' 'API  - Consultar - Meus blocos'\n",
            " 'Sem blocos salvos' 'Enviar localizacao' 'API - Buscar info do bloco'\n",
            " 'API - Salvar - Bloco' 'Criar lista de distribuicao'\n",
            " 'Verificar - Horario bloco' 'Bloco - Ja Comecou'\n",
            " 'API - Consultar  blocos -  Localizacao'\n",
            " 'API - Carrossel blocos -  Localizacao' 'Agendar - Push'\n",
            " 'Bloco - Agendado' 'IA - OQueVaiTer' 'Intro - Pesquisa por dia'\n",
            " 'API - Como Chegar' 'API - Carrossel - Meus blocos' 'IA - Xingamentos'\n",
            " 'Sentimento - Negativo - Pos' 'Sentimento - Positivo' 'Objetivo - Tudo'\n",
            " 'Playlists' 'Ouvir playlist' 'Quero - Default'\n",
            " 'Menu  - Dicas de carnaval' 'Menu  - Dicas de carnaval -1'\n",
            " 'Menu  - Dicas de carnaval -2' 'Menu  - Dicas de carnaval -3'\n",
            " 'Menu  - Dicas de carnaval -4' 'API - Carrossel blocos -  Nome'\n",
            " 'Menu  - Dicas de carnaval -5' 'IA - Quando' 'Quando - Default'\n",
            " 'API - Carrossel blocos - Bairros  IA' 'Bloco - Quase na hora'\n",
            " 'API - Carrossel blocos -  IA' 'Fallback - MediaLink' 'Enviar audio'\n",
            " 'Retornar imagem' 'Objetivo - Beijar' 'Indicar - Enviar foto'\n",
            " 'Quero fotos' 'IA - Sentimento' 'Sentimento - Negativo' 'IA - ComoChegar'\n",
            " 'Como Esta - Default' 'API - Carrossel blocos -  Melhores' 'IA - Tchau'\n",
            " 'Boa noite' 'IA - ComoEsta' 'Fallback - Musica' 'Fallback - Diversos'\n",
            " 'API - Consultar blocos amanha' 'Intro - O que tem amanha'\n",
            " 'API  - Carrossel blocos -  Amanha' 'Sentimento - Amor' 'Bom dia'\n",
            " 'Compartilhar - Intro' 'Compartilhar - Card' 'Emoji - Animais'\n",
            " 'API - Verificar - Nome do  Bairro' 'API - Consultar proximos blocos'\n",
            " 'Intro - O que aconteceu hoje' 'API  - Carrossel blocos -  Aconteceu'\n",
            " 'API - Carrossel  - Blocos no Bairro' 'Emoji - PÃ³s'\n",
            " 'Nenhum bloco selecionado' 'Emoji - Indefinido' 'IA - Quero - Beijo'\n",
            " 'Amanha  - Nenhum bloco encontrado' 'Hoje - Nenhum bloco encontrado'\n",
            " 'IA - PrevisaoTempo' 'Broad - Chama o sindico'\n",
            " 'Permissao para envio de alerta' 'Bloco - Nao Agendado' 'Intro - Bot'\n",
            " 'Retirar da lista de distribuicao' 'Broad - Cupom Cabify'\n",
            " 'Permissao para publicar' 'Pode publicar foto' 'Nao pode publicar'\n",
            " 'API - Carrossel blocos - Noite' 'Bloco - Ja Acabou'\n",
            " 'API -  Carrossel - Bairro - Hoje'\n",
            " 'API - Carrossel - Bairro - Hoje - Blocos' 'Intro - Bairros - Hoje'\n",
            " 'Cancelar - Envios' 'Como esta o bloco' 'API - Carrossel blocos - Tarde'\n",
            " 'Emoji - Coracao'] \n",
            "\n",
            "\n",
            "Objetivo\n",
            "['Beber' 'Dancar' 'Tudo' 'Beijar'] \n",
            "\n",
            "\n",
            "Pesquisa - Dia\n",
            "['10/02/2018' 'ð\\x9f\\x93\\x85 Agenda' '12/02/2018' '03/02/2018'\n",
            " '13/02/2018' 'ð\\x9f\\x93\\x8d Mais prÃ³ximo' '09/02/2018' '04/02/2018'\n",
            " '02/02/2018' '11/02/2018' '08/02/2018' 'MenuAgenda' 'o que tem hoje?'\n",
            " 'Serra ' 'Quando Ã© o bloco do agente jÃ¡ civil' 'Bloco do entÃ£o brilha'\n",
            " 'Que tiro' 'amanhÃ£' 'esquece' '12' 'amanha' 'quwero ver os de amanha'\n",
            " 'me mostra entao as datas' 'Outros blocos' 'Oi' 'MenuHoje'\n",
            " 'Chama o sindico' 'SÃ¡bado' 'Meus blocos' 'Menu' 'MenuEnviarLocal'\n",
            " 'queisso' 'como q acabou' 'pacato cidadÃ£o' 'Que tiro foi esse ?'\n",
            " 'qual o melhor bloco de quinta?' 'Blocos para beijar' 'hoje' 'sexo'\n",
            " 'Hoje' 'Dia 9' 'preciso me programar' 'nao sei'\n",
            " 'que chato... queria um bloco hoje' 'FuncionÃ¡rios' 'qua 07/02'\n",
            " 'Quero hj' 'Amanha tem bloco viu' 'oi' 'ComeÃ§ar' 'alÃ´ abacaxi' 'agenda'\n",
            " 'do bem' 'Nestaseixtafeira' 'Pena de pavÃ£o' 'quinta' 'Bloco infantil'\n",
            " 'Floresta' 'InÃ\\xadcio' 'Cancelar alertas' 'Santa Tereza'\n",
            " 'Santo Agostinho'\n",
            " 'Todossssss\\nkkkkkkkk \\n\\nMas, quero opÃ§Ãµes pra segunda e terÃ§a'\n",
            " 'Todos os dias' 'baianeiros' 'quero sim' 'CadÃª?' 'Infantil' '?'\n",
            " 'Qual a programaÃ§Ã£o?' '9' 'Como chegar' 'Bloco do calixto'\n",
            " 'Quando come se lambuza' 'Sai zica' 'Brincar com filhos' 'Stop'\n",
            " 'VocÃª Ã© homem o mulher' '10' 'Pode!' 'Sim' 'Kkkkkk'\n",
            " 'Que estÃ¡ bombando' 'Tem horas pra terminar' 'AmanhÃ£' 'Funk you'\n",
            " 'Centro' 'Hoje?' 'Vai rolar a noite' 'Eu quero transar com vocÃª' '??'\n",
            " 'AlÃ´ Abacaxi' 'Anchieta' '10/02 2017' 'Segunda' 'ads-bot-carnaval'\n",
            " 'Biejar' 'JÃ¡ vamos.pra lÃ¡' 'RegiÃ£o nordeste' 'Como vejo as fotos'\n",
            " 'Esse sÃ£o muito longe' 'N da pra mim' 'Aff'\n",
            " 'Vou trabalhar os outros dias' 'Qual bloco amanhÃ£' 'Quem Ã© vc ?'\n",
            " 'Quero blocos de crianÃ§as pois trabalho vendendo confete e espuma'\n",
            " 'Apertei sem querer' 'Todos' 'Baianas' 'Pode mandar q que deu tb'\n",
            " 'Barreiro' 'Hoje vou no bloco aqui perto de casa' 'Os dois dias'\n",
            " 'Oq temos na savassi?' '18/fev' 'TerÃ§a feira' '14/fev'\n",
            " 'Eu vou amanhÃ£, terÃ§a' 'Obrigada entÃ£o, eu vou amanhÃ£' 'diversÃ£o'\n",
            " '????' 'Kkkkkkkkð\\x9f\\x98\\x82ð\\x9f\\x98\\x82ð\\x9f\\x98\\x82' 'Quarta-feira'\n",
            " 'ProgramaÃ§Ã£o infantil' 'Hoje a noite' 'Quarta feira tem bloco?'\n",
            " 'Quarta feira 14/02' 'Amanha' 'Compartilhar c/geral ð\\x9f\\x8e\\x89'\n",
            " 'AmanhÃ£  vai ter carnaval' 'Quarta' 'Tem algo pra Hj?'\n",
            " 'O que tem para sÃ¡bado?' 'Valeu' 'Dai bom' 'Tchau'\n",
            " 'Que pena foi tudo muito bom apesar das brigas' 'Otima ajuda' 'bom dia'\n",
            " 'Nem um obg' 'Sua ajuda foi excelente' 'MenuMeusBlocos'] \n",
            "\n",
            "\n",
            "Pesquisa - Bairro\n",
            "['SÃ£o Pedro' 'Centro' 'Floresta' 'Santa Tereza' 'Santo Agostinho'\n",
            " 'Carlos Prates' 'Savassi' 'Dona Clara' 'Pampulha ' 'Cruzeiro'\n",
            " 'Santa EfigÃªnia' 'FuncionÃ¡rios' 'Santa Maria' 'RenascenÃ§a' 'Gutierrez'\n",
            " 'Santa Cruz' 'Planalto' 'Centro ' 'Serra ' 'Anchieta' 'Jardim AmÃ©rica'\n",
            " 'Santa AmÃ©lia' 'Sion' 'Santa Teresa' 'Pedro II' 'Buritis' 'CaiÃ§ara'\n",
            " 'Bonfim' 'Bairro Silveira' 'Bandeirantes' 'Santa InÃªs'\n",
            " 'Bairro das IndÃºstrias I' 'Horto Florestal' 'Barro Preto' 'Barreiro'\n",
            " 'Santa Tereza \\n' 'Santa Rosa' 'Santo AntÃ´nio' 'Alto dos Pinheiros'\n",
            " 'Mangabeiras' 'Castelo' 'Vila Nova Gameleira II'] \n",
            "\n",
            "\n",
            "Eu vou\n",
            "['Bloco do Pirulito' 'BlocÃ£o Pet' 'EntÃ£o, Brilha!' 'Baianas Ozadas'\n",
            " 'Unidos da Estrela da Morte' 'Abre-te SÃ©samo' 'Asa de Banana'\n",
            " 'Transa! - AtrÃ¡s do trio elÃ©trico' 'Bloco do Batiza' 'Filhos de Olorum'\n",
            " 'Bloco MagnÃ³lia' 'Tchanzinho Zona Norte' 'Unidos do Samba Queixinho'\n",
            " 'LItalia Mascherata' 'Que MÃ¡rio?' 'Quando come se lambuza' 'Bloco Duro'\n",
            " 'Bloco do Approach' 'BeiÃ§o do Wando' 'Corte Devassa'\n",
            " 'Me bebe que sou Cervejeiro' 'Coco da gente' 'Baianeiros'\n",
            " 'A culpa Ã© dele' 'Bloco da PraÃ§a' 'BaiÃ£o de Rua'\n",
            " 'Carnarock SantÃª 2018' 'Du seu pai e filhas de Gaby' 'Ã\\x89 o amÃ´'\n",
            " 'AlÃ´ Abacaxi' 'Trio Sem Frescuras da @bsurda' 'Funk You' 'Baque de Mina'\n",
            " 'Haja Amor' 'Bloco Indios' 'Pega na Mangueira' 'Tamborins TantÃ£s'\n",
            " 'Bloco do Polvo' 'Ubloco' 'Sexta NinguÃ©m Sabe' 'Bloco - Funk You'\n",
            " 'Bloco - Us Beethoven' 'Bloco - AtrÃ¡s do JacarÃ©'\n",
            " 'Bloco - A culpa Ã© dele' 'Bloco - Tira Queijo'\n",
            " 'Bloco - Tchanzinho Zona Norte' 'Bloco - Carnarock SantÃª 2018'\n",
            " 'Bloco - Alalaor' 'Bloco - Me bebe que sou Cervejeiro'\n",
            " 'Bloco - Asa de Banana' 'Bloco - Transa! - AtrÃ¡s do trio elÃ©trico'\n",
            " 'Bloco - Unidos da Estrela da Morte' 'Bloco - Bloco da Calixto'\n",
            " 'Bloco - Bloco do Torresmo' 'Bloco - Corte Devassa'\n",
            " 'Bloco - Quando come se lambuza' 'Bloco - Carnamariano'\n",
            " 'Bloco - Bloco Juventude Bronzeada'\n",
            " 'Bloco - Mais feliz que pinto no lixo' 'Bloco - Bloco Boi Rosado'\n",
            " 'Bloco - EntÃ£o, Brilha!' 'Bloco - Que MÃ¡rio?' 'Bloco - Ubloco'\n",
            " 'Bloco - Volta Belchior' 'Bloco - Divina Banda' 'Bloco - Baianeiros'\n",
            " 'Bloco - AlÃ´ Abacaxi' 'Bloco - Sexta NinguÃ©m Sabe'\n",
            " 'Bloco - Lua de Crixtal' 'Bloco - Bloco MagnÃ³lia'\n",
            " 'Bloco - Trio Sem Frescuras da @bsurda' 'Bloco - Baque de Mina'\n",
            " 'Bloco - Bloco do Batiza' 'Bloco - Bloco Angola Janga'\n",
            " 'Bloco - Baianas Ozadas' 'Bloco - AbacaBloco' 'Bloco - Academia Folia'\n",
            " 'Bloco - BeiÃ§o do Wando' 'Bloco - ArrastÃ£o do Hott' 'Bloco - AfliFolia'\n",
            " 'Bloco - Chama o SÃ\\xadndico'\n",
            " 'Bloco - Alessandra no PaÃ\\xads da Ser Brincante - Infantil'\n",
            " 'Bloco - Havayanas Usadas - A confirmar'\n",
            " 'Bloco - Fui pobre mas nem lembro' 'Bloco - Du seu pai e filhas de Gaby'\n",
            " 'Bloco - Unidos do Samba Queixinho' 'Bloco - BaiÃ£o de Rua'\n",
            " 'Bloco - Haja Amor' 'Bloco - Bloco da Bicicletinha'\n",
            " 'Bloco - Bloco Aki CÃª DanÃ§a' 'Bloco - Bloquim Dubem - Infantil'\n",
            " 'Bloco - Os Baianinhas - Infantil' 'Bloco - Bloco da LÃ\\xadngua'\n",
            " 'Bloco - Ã\\x89 o amÃ´' 'Bloco - Bloco da Oca - Infantil'\n",
            " 'Bloco - Bloco FÃºnebre' 'Bloco - Roda de Timbau'\n",
            " 'Bloco - Bloco Pisa na FulÃ´' 'Bloco - Filhos da PUC'\n",
            " 'Bloco - Pena de PavÃ£o de Krishna' 'Bloco - ' 'Bloco - Cintura Fina'\n",
            " 'Bloco - Circo Marimbondo - Infantil' 'Bloco - Bloco da Esquina '\n",
            " 'Bloco - SambalaÃ§o' 'Bloco - Bloco do Polvo' 'Bloco - Bloco da Fofoca'\n",
            " 'Bloco - Com Sagrados' 'Bloco - Bolinha Preta - Infantil'\n",
            " 'Bloco - A Pampulha Ã© Nossa' 'Bloco - Bloco do Approach'\n",
            " 'Bloco - BlocÃ£o Pet' 'Bloco - LavÃ´, tÃ¡ novo '\n",
            " 'Bloco - ArrastÃ£o EletrÃ´nico' 'Bloco - Pacato CidadÃ£o '\n",
            " 'Bloco - Vou ali e volto' 'Bloco - Bloco dos Dados'\n",
            " 'Bloco - Batuque Coletivo' 'Bloco - Bloco dos Valetes'\n",
            " 'Bloco - Bloco da Insanidade' 'Bloco - Todo Mundo Cabe no Mundo'\n",
            " 'Bloco - NÃ£o Acredito Que Te Beijei' 'Bloco - Havayanas Usadas'\n",
            " 'Bloco - Boca Froxa ' 'Bloco - Bloco da Proibida'\n",
            " 'Bloco - Meu tio Ã© tia' 'Bloco - Abre que tÃ´ passanÃº'\n",
            " 'Bloco - Coco da gente' 'Bloco - PescoÃ§Ã£o'\n",
            " 'Bloco - Bloco Maria Baderna' 'Bloco - Xai-Xai' 'Bloco - Boca Froxa'\n",
            " 'Bloco - Bloco Parque JÃ¡'\n",
            " 'Bloco - Bloco Unidos do Oeste - BethÃ¢nia Custosa e Parque JÃ¡'\n",
            " 'Bloco - Filhos de Olorum' 'Bloco - Bloco TÃ¡ Mole Mas e Meu'\n",
            " 'Bloco - Chega o Rei' 'Bloco - Monobloco - Desfile 2018'\n",
            " 'Bloco - Cavallieri-RGP-da FamÃ\\xadlia'] \n",
            "\n",
            "\n",
            "Como chegar\n",
            "['Energia na Folia' 'EntÃ£o, Brilha!' 'Abre-te SÃ©samo' 'Filhos de Olorum'\n",
            " 'Bloco MagnÃ³lia' 'Bloco do Pirulito' 'BlocÃ£o Pet' 'Filhos da PUC'\n",
            " 'LItalia Mascherata' 'Quando come se lambuza' 'BanduLino'\n",
            " 'A culpa Ã© dele' 'Pena de PavÃ£o de Krishna' 'Banda Mole' 'Bloquinho'\n",
            " 'Me bebe que sou Cervejeiro' 'Bloco da PraÃ§a' 'Us Beethoven'\n",
            " 'Pega na Mangueira' 'Que MÃ¡rio?' 'Bloco do Batiza' 'Ã\\x89 o amÃ´'\n",
            " 'Unidos do Samba Queixinho' 'Mais feliz que pinto no lixo'\n",
            " 'Todo Mundo Cabe no Mundo' 'Bloco Duro' 'Tamborins TantÃ£s'\n",
            " 'Bloco do Polvo' 'Baianas Ozadas' 'Bloco - Pega na Mangueira'\n",
            " 'Bloco - Bloco dos Deuses' 'Bloco - BanduLino' 'Bloco - Renafolia'\n",
            " 'Bloco - Bloco da PraÃ§a'\n",
            " 'Bloco - Bloco Carnavalesco As Virgens Do Formigueiro Quente'\n",
            " 'Bloco - Tira Queijo' 'Bloco - Tchanzinho Zona Norte'\n",
            " 'Bloco - Bloco Saideira' 'Bloco - BlocÃ£o Pet' 'Bloco - Bloco FÃºnebre'\n",
            " 'Bloco - Bloco do Barba Roxa' 'Bloco - Desblocados toca Raul'\n",
            " 'Bloco - Padecendo no ParaÃ\\xadso' 'Bloco - O Rei e a Jovem Guarda'\n",
            " 'Bloco - Bloco Deslumbradas' 'Bloco - Bloco Almas Empenadas'\n",
            " 'Bloco - Quando come se lambuza' 'Bloco - Asa de Banana'\n",
            " 'Bloco - Carnamariano' 'Bloco - Que MÃ¡rio?'\n",
            " 'Bloco - Bloco da Oca - Infantil' 'Bloco - Alalaor'\n",
            " 'Bloco - Bloco Boi Rosado' 'Bloco - Ubloco' 'Bloco - Volta Belchior'\n",
            " 'Bloco - Chama o SÃ\\xadndico' 'Bloco - AlÃ´ Abacaxi'\n",
            " 'Bloco - EntÃ£o, Brilha!' 'Bloco - Lua de Crixtal'\n",
            " 'Bloco - Academia Folia' 'Bloco - Bloco MagnÃ³lia'\n",
            " 'Bloco - ArrastÃ£o do Hott'\n",
            " 'Bloco - Alessandra no PaÃ\\xads da Ser Brincante - Infantil'\n",
            " 'Bloco - BeiÃ§o do Wando' 'Bloco - Cavallieri-RGP-da FamÃ\\xadlia'\n",
            " 'Bloco - Sexta NinguÃ©m Sabe' 'Bloco - Fui pobre mas nem lembro'\n",
            " 'Bloco - Bloco do Approach' 'Bloco - Bloco da Calixto'\n",
            " 'Bloco - Transa! - AtrÃ¡s do trio elÃ©trico'\n",
            " 'Bloco - Bloco Aki CÃª DanÃ§a' 'Bloco - Bloco da Bicicletinha'\n",
            " 'Bloco - Com Sagrados' 'Bloco - Bloco Indios' 'Bloco - Roda de Timbau'\n",
            " 'Bloco - Bloco Juventude Bronzeada' 'Bloco - BaiÃ£o de Rua'\n",
            " 'Bloco - Mais feliz que pinto no lixo' 'Bloco - Corte Devassa'\n",
            " 'Bloco - Chega o Rei'\n",
            " 'Bloco - Bloco Unidos do Oeste - BethÃ¢nia Custosa e Parque JÃ¡'\n",
            " 'Bloco - BlocÃ£o do cachorrÃ£o' 'Bloco - Bloco do SÃ´ JÃ£o'\n",
            " 'Bloco - Funk You' 'Bloco - Pena de PavÃ£o de Krishna'\n",
            " 'Bloco - Baianeiros' 'Bloco - Havayanas Usadas - A confirmar'\n",
            " 'Bloco - Cintura Fina' 'Bloco - Bloco da Proibida'\n",
            " 'Bloco - Unidos do Samba Queixinho' 'Bloco - Bloco Angola Janga'\n",
            " 'Bloco - SambalaÃ§o' 'Bloco - Bloco do Marley'\n",
            " 'Bloco - Todo Mundo Cabe no Mundo' 'Bloco - Afro Fala Tambor '\n",
            " 'Bloco - Bloco do Polvo' 'Bloco - NÃ£o Acredito Que Te Beijei'\n",
            " 'Bloco - Baianas Ozadas' 'Bloco - Bolinha Preta - Infantil'\n",
            " 'Bloco - Divina Banda' 'Bloco - Unidos da Estrela da Morte'\n",
            " 'Bloco - AfliFolia' 'Bloco - Bloco da Fofoca' 'Bloco - Gato Escaldado '\n",
            " 'Bloco - AfoxÃ© BandarerÃª' 'Bloco - ArrastÃ£o EletrÃ´nico'\n",
            " 'Bloco - Bloco TÃ¡ Mole Mas e Meu' 'Bloco - Du seu pai e filhas de Gaby'\n",
            " 'Bloco - Carnarock SantÃª 2018' 'Bloco - Bloco do Batiza'\n",
            " 'Bloco - Ã\\x89 o amÃ´' 'Bloco - Pacato CidadÃ£o ' 'Bloco - AbacaBloco'\n",
            " 'Bloco - Bloco Carona Do Amor' 'Bloco - LavÃ´, tÃ¡ novo '\n",
            " 'Bloco - Bloquim Dubem - Infantil' 'Bloco - Bloco da Esquina '\n",
            " 'Bloco - Trio Sem Frescuras da @bsurda' 'Bloco - Bloco dos Valetes'\n",
            " 'Bloco - Filhos da PUC' 'Bloco - Bloco da Insanidade'\n",
            " 'Bloco - Batuque Coletivo' 'Bloco - Circo Marimbondo - Infantil'\n",
            " 'Bloco - Bloco dos Dados' 'Bloco - Vou ali e volto'\n",
            " 'Bloco - Havayanas Usadas' 'Bloco - Carnafunk' 'Bloco - Aqui cÃª podi'\n",
            " 'Bloco - Os Baianinhas - Infantil' 'Bloco - Bloco do Torresmo'\n",
            " 'Bloco - Abre que tÃ´ passanÃº' 'Bloco - Bloco do JoÃ£o Careca'\n",
            " 'Bloco - Baque de Mina' 'Bloco - Bloco Maria Baderna' 'Bloco - Haja Amor'\n",
            " 'Bloco - Boca Froxa' 'Bloco - PescoÃ§Ã£o'\n",
            " 'Bloco - Me bebe que sou Cervejeiro' 'Bloco - Filhos de Olorum'\n",
            " 'Bloco - Xai-Xai' 'Bloco - Bloco Pisa na FulÃ´' 'Bloco - Coco da gente'\n",
            " 'Bloco - Monobloco - Desfile 2018' 'Bloco - Bloco do Saraiva'] \n",
            "\n",
            "\n",
            "broad-Chama_Sindico\n",
            "['broad-chama-o-sindico' 'broad-nao'] \n",
            "\n",
            "\n",
            "broad-chama-o-sindico\n",
            "['chama-o-sindico' 'nao'] \n",
            "\n",
            "\n",
            "Ads\n",
            "['ads-bot-carnaval' 'ads-bot-carnaval-anuncio2'\n",
            " 'ads-bot-carnaval-anuncio3' 'ads-bot-carnaval-anuncio4'] \n",
            "\n",
            "\n",
            "broad-\n",
            "['broad-'] \n",
            "\n",
            "\n",
            "broad-Cupom_Cabify\n",
            "['broad-quero-cupom-cabify' 'broad-nao'] \n",
            "\n",
            "\n",
            "Envio de foto\n",
            "['Pode publicar foto' 'Nao pode publicar'] \n",
            "\n",
            "\n",
            "broad-Fim_Carnaval\n",
            "['broad-quero um bloco agora' 'broad-compartilhar' 'broad-qro-um-bloco'\n",
            " 'broad-nao'] \n",
            "\n",
            "\n",
            "broad-Pesquisa_Satisfacao\n",
            "['broad-5 Amei' 'broad-4 Curti' 'broad-3 nao indiferente'\n",
            " 'broad-2 nao curti' 'broad-1 nao gostei'] \n",
            "\n",
            "\n"
          ]
        }
      ],
      "source": [
        "for i in df_EventTracks.Category.unique():\n",
        "  print(i)\n",
        "  print(df_EventTracks[df_EventTracks.Category==i].Action.unique(),'\\n\\n')"
      ]
    },
    {
      "cell_type": "code",
      "execution_count": null,
      "metadata": {
        "id": "wHGQMicK7bRc"
      },
      "outputs": [],
      "source": [
        "# Pesquisamos quais foram as ações mais frequentes, sinalizando a categoria a que pertencem.\n",
        "\n",
        "frequent_actions=df_EventTracks[['Action','Category']].value_counts()[:20].sort_values(ascending=False).to_frame().reset_index()\n",
        "frequent_actions"
      ]
    },
    {
      "cell_type": "code",
      "execution_count": null,
      "metadata": {
        "colab": {
          "base_uri": "https://localhost:8080/"
        },
        "id": "32yGgLpvi_qO",
        "outputId": "70bf8593-e868-4aba-fb98-89c84e2168e8"
      },
      "outputs": [
        {
          "output_type": "stream",
          "name": "stdout",
          "text": [
            "{'de', 'Agenda', 'Fallback', 'lista', 'proximos', 'para', 'Carrossel', 'data', 'carrossel', '-', 'Bairro', 'Nome', 'Bloco', 'Hoje', 'API', 'blocos', 'Musica', 'bloco', 'Criar', 'distribuicao', 'IA', 'vindas', 'hoje', 'do', 'Verificar', 'Respostas', 'Menu', 'Diversos', 'Chegar', 'Como', 'Horario', 'tem', 'info', 'Selecionar', 'Buscar', 'Consultar', 'O', 'que', 'Salvar', 'Boas', 'Intro'}\n"
          ]
        }
      ],
      "source": [
        "keywords_actions= set()\n",
        "for i in frequent_actions.Action:\n",
        "  a=i.split()\n",
        "  for n in a:\n",
        "    keywords_actions.add(n)\n",
        "print(keywords_actions)"
      ]
    },
    {
      "cell_type": "markdown",
      "source": [
        "# <font size=5> **CONCLUSÕES** </font>\n",
        "\n",
        "Baseados nas informações apresentadas concluímos que o chatbot foi maioritariamente utilizado pelos usuários para a obtenção de localizações e informações sobre blocos.\n",
        "\n",
        "\n",
        "\n",
        "Identificaram-se as datas, os dias da semana e as faixas horárias com maior e menor atividade, assim como as zonas geográficas mais movimentadas.\n",
        "\n",
        "\n",
        "\n",
        "Sabendo, pelos dados recebidos, que no final de semana de carnaval o dia mais aquecido é o sábado, que a faixa horária de maior atividade é entre meio dia e 16h e que a zona mais movimentada da cidade é no Centro, podem incluir-se no chatbot informações referentes a:\n",
        "\n",
        "* Pontos de hidratação\n",
        "* Postos de saúde e atenção de emergências\n",
        "* Pessoal de segurança\n",
        "\n",
        "Também foram identificados os blocos que geraram mais interesse nos usuários. Este retorno, junto com as informações mencionadas, pode ser aproveitado pela organização dos eventos para:\n",
        "\n",
        "* Gerar cronogramas mais eficientes, com uma agenda combinada com os líderes dos blocos mais relevantes, de forma que se consiga uma distribuição mais equitativa de horários e ocupação de espaços.\n",
        "* Desenvolver protocolos de segurança e prevenção de acidentes, especialmente para as zonas, dias e horários em onde é esperado uma presença maior do público.\n",
        "\n",
        "A pesquisa de satisfação e a colheita de expressões de sentimento retornou um impacto positivo da experiência dos usuários."
      ],
      "metadata": {
        "id": "wWKhqKnoPwu2"
      }
    }
  ],
  "metadata": {
    "colab": {
      "provenance": [],
      "collapsed_sections": [
        "m91fn_ouIpWu"
      ],
      "toc_visible": true,
      "authorship_tag": "ABX9TyN47aB0DL5kow075XVtn3ID",
      "include_colab_link": true
    },
    "kernelspec": {
      "display_name": "Python 3",
      "name": "python3"
    },
    "language_info": {
      "name": "python"
    }
  },
  "nbformat": 4,
  "nbformat_minor": 0
}